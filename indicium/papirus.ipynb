{
 "cells": [
  {
   "cell_type": "markdown",
   "metadata": {},
   "source": [
    "Papirus:\n",
    "\n",
    "\n",
    "- query em pandas\n"
   ]
  },
  {
   "cell_type": "code",
   "execution_count": null,
   "metadata": {},
   "outputs": [],
   "source": [
    "# criei uma coluna somente com os meses\n",
    "#deals['month'] = pd.DatetimeIndex(deals['dealsDateCreated']).month\n",
    "\n",
    "'''\n",
    "deals[deals['month'] == 12]\n",
    "\n",
    "deals_companies = deals_companies.set_index(['companiesName'])\n",
    "print(deals_companies.loc['Class LLP'])'''\n"
   ]
  },
  {
   "cell_type": "code",
   "execution_count": null,
   "metadata": {},
   "outputs": [],
   "source": [
    "# join entre companies e sectors\n",
    "# setores das companies mapeados\n",
    "companies_sectors = companies.set_index('sectorKey').join(sectors.set_index('sectorKey'))\n",
    "\n",
    "# join entre deals e companies_sectors\n",
    "deals_companies = deals.set_index('companiesId').join(companies_sectors.set_index('companiesId'))\n",
    "\n",
    "deals_companies"
   ]
  },
  {
   "cell_type": "code",
   "execution_count": null,
   "metadata": {},
   "outputs": [],
   "source": [
    "# FULL JOIN\n",
    "deals_contacts = deals.set_index('contactsId').join(contacts.set_index('contactsId'))\n"
   ]
  },
  {
   "cell_type": "code",
   "execution_count": null,
   "metadata": {},
   "outputs": [],
   "source": [
    "# SELECT FROM WHERE \n",
    "# deals_companies.query('companiesName == \"Class LLP\"  & sector == \"Varejo\"')\n",
    "# deals_companies[deals_companies['companiesName'] == \"Class LLP\"]\n",
    "\n",
    "#i = \"Class LLP\"\n",
    "#deals_companies[deals_companies['companiesName'] == i]\n",
    "\n",
    "\n",
    "#for i in deals_companies['companiesName']:\n",
    "#    print (i)\n",
    "#deals_companies.query('companiesName == \"Class LLP\"  & sector == \"Varejo\"')\n",
    "\n",
    "\n",
    "#deals_companies = deals_companies.set_index(['companiesName'])\n",
    "#print(deals_companies.loc['Class LLP'])\n",
    "\n",
    "# Lista dos setores de empresa, ordenado por quanto esse setor representa no total vendido pela empresa no mês\n",
    "lista_setores = []\n",
    "\n",
    "# query para obter todas as tuplas de um setor\n",
    "query_sector = deals_companies[deals_companies['companiesName'].notnull() & (deals_companies['sector'].notnull())]\n",
    "\n",
    "#query_sector = deals_companies[deals_companies['sector'] == \"Serviços\" ]\n",
    "\n",
    "#query_sector = deals_companies[deals_companies['sector'] == \"Tecnologia\" ]\n",
    "\n",
    "#query_sector = deals_companies[deals_companies['sector'] == \"Indústria\" ]\n",
    "\n",
    "#query_sector = deals_companies[deals_companies['sector'] == \"Varejo\" ]\n",
    "\n",
    "#query_sector = deals_companies[deals_companies['sector'] == \"Atacado\" ]\n",
    "\n",
    "query_sector_group = deals_companies.groupby(extrai_mes)['dealsPrice'].sum().sort_values(ascending=False)\n",
    "#query_sector_group\n",
    "query_sector\n",
    "\n",
    "# agrupamento por mes\n",
    "#group_month = deals_companies.groupby(extrai_mes)['dealsPrice'].sum().sort_values(ascending=False)\n",
    "\n",
    "\n",
    "\n",
    "\n",
    "\n",
    "\n",
    "\n",
    "\n",
    "\n",
    "# obtem todos os tuplas de uma companie na tabela deals_companies\n",
    "#get_companie = deals_companies[deals_companies['companiesName'] == \"Class LLP\"]\n",
    "\n",
    "# agrupa os valores vendidos por sector\n",
    "#group_sector = get_companie.groupby('sector')['dealsPrice'].sum().sort_values(ascending=False)\n",
    "#group_sector"
   ]
  }
 ],
 "metadata": {
  "kernelspec": {
   "display_name": "Python 3",
   "language": "python",
   "name": "python3"
  },
  "language_info": {
   "codemirror_mode": {
    "name": "ipython",
    "version": 3
   },
   "file_extension": ".py",
   "mimetype": "text/x-python",
   "name": "python",
   "nbconvert_exporter": "python",
   "pygments_lexer": "ipython3",
   "version": "3.6.5"
  },
  "latex_envs": {
   "LaTeX_envs_menu_present": true,
   "autoclose": false,
   "autocomplete": true,
   "bibliofile": "biblio.bib",
   "cite_by": "apalike",
   "current_citInitial": 1,
   "eqLabelWithNumbers": true,
   "eqNumInitial": 1,
   "hotkeys": {
    "equation": "Ctrl-E",
    "itemize": "Ctrl-I"
   },
   "labels_anchors": false,
   "latex_user_defs": false,
   "report_style_numbering": false,
   "user_envs_cfg": false
  }
 },
 "nbformat": 4,
 "nbformat_minor": 2
}
