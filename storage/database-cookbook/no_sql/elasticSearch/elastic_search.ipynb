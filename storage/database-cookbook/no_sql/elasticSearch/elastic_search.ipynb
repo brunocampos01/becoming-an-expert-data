{
 "cells": [
  {
   "cell_type": "markdown",
   "metadata": {},
   "source": [
    "# Elastic Search"
   ]
  },
  {
   "cell_type": "code",
   "execution_count": 7,
   "metadata": {},
   "outputs": [
    {
     "name": "stdout",
     "output_type": "stream",
     "text": [
      "Collecting elasticsearch\n",
      "  Using cached https://files.pythonhosted.org/packages/df/63/86cfe50a11621240450322509f8eacac14f3381cbf43aee2fe56db8c7c8a/elasticsearch-7.0.4-py2.py3-none-any.whl\n",
      "Requirement already satisfied: urllib3>=1.21.1 in c:\\users\\bruno.moura\\appdata\\local\\continuum\\anaconda3\\lib\\site-packages (from elasticsearch) (1.24.2)\n",
      "Installing collected packages: elasticsearch\n",
      "Successfully installed elasticsearch-7.0.4\n"
     ]
    }
   ],
   "source": [
    "!pip install elasticsearch"
   ]
  },
  {
   "cell_type": "code",
   "execution_count": 203,
   "metadata": {},
   "outputs": [],
   "source": [
    "from datetime import datetime\n",
    "import datetime\n",
    "\n",
    "from requests.auth import HTTPBasicAuth \n",
    "import requests\n",
    "import urllib\n",
    "\n",
    "from elasticsearch import Elasticsearch\n",
    "from elasticsearch import helpers\n",
    "\n",
    "import pandas as pd"
   ]
  },
  {
   "cell_type": "code",
   "execution_count": 139,
   "metadata": {},
   "outputs": [],
   "source": [
    "now = datetime.datetime.now()\n",
    "dtprocessamento = now.strftime(\"%Y-%m-%d %H:%M\")"
   ]
  },
  {
   "cell_type": "markdown",
   "metadata": {},
   "source": [
    "---\n",
    "## Connection"
   ]
  },
  {
   "cell_type": "code",
   "execution_count": 231,
   "metadata": {},
   "outputs": [
    {
     "name": "stdout",
     "output_type": "stream",
     "text": [
      "<Elasticsearch([{'host': 'elastic.precedentes.datascience.legal'}])>\n"
     ]
    }
   ],
   "source": [
    "username = '<login>'\n",
    "password = '<key>'\n",
    "url = '<http://elastic>'\n",
    "index = '<database>'\n",
    "\n",
    "es = Elasticsearch(hosts=url,\n",
    "                   http_auth=(username, password),\n",
    "                   timeout=5000)\n",
    "\n",
    "print(es)"
   ]
  },
  {
   "cell_type": "code",
   "execution_count": 232,
   "metadata": {
    "scrolled": true
   },
   "outputs": [
    {
     "name": "stdout",
     "output_type": "stream",
     "text": [
      "<Response [200]>\n"
     ]
    }
   ],
   "source": [
    "response = requests.get('<http://elastic>',\n",
    "                        auth = HTTPBasicAuth(username, password))\n",
    "\n",
    "print(response)"
   ]
  },
  {
   "cell_type": "markdown",
   "metadata": {},
   "source": [
    "---"
   ]
  },
  {
   "cell_type": "code",
   "execution_count": 239,
   "metadata": {
    "scrolled": true
   },
   "outputs": [
    {
     "data": {
      "text/plain": [
       "4"
      ]
     },
     "execution_count": 239,
     "metadata": {},
     "output_type": "execute_result"
    }
   ],
   "source": [
    "# res = es.search(index=index,\n",
    "#                 body={\n",
    "#                         \"query\": {\n",
    "#                             \"match_all\": {}\n",
    "#                         }})\n",
    "# len(res)"
   ]
  },
  {
   "cell_type": "code",
   "execution_count": 246,
   "metadata": {},
   "outputs": [],
   "source": [
    "query_peticao_inicial = {\n",
    "                            \"_source\": [\"PRC.FL\"],\n",
    "                            \"query\": {\n",
    "                                \"match_all\": {}\n",
    "                            }\n",
    "                        }"
   ]
  },
  {
   "cell_type": "code",
   "execution_count": 247,
   "metadata": {
    "scrolled": true
   },
   "outputs": [],
   "source": [
    "list_peticao_inicial = []\n",
    "\n",
    "results = helpers.scan(es,\n",
    "                       index = index,\n",
    "                       preserve_order = True,\n",
    "                       query = query_peticao_inicial)\n",
    "\n",
    "for item in results:\n",
    "    #print(item['_id'], item['_source'])\n",
    "    list_peticao_inicial.append(item)"
   ]
  },
  {
   "cell_type": "code",
   "execution_count": null,
   "metadata": {},
   "outputs": [],
   "source": [
    "len(list_peticao_inicial)"
   ]
  },
  {
   "cell_type": "code",
   "execution_count": 196,
   "metadata": {},
   "outputs": [],
   "source": [
    "df = pd.DataFrame(list_peticao_inicial)\n",
    "df.info()"
   ]
  },
  {
   "cell_type": "markdown",
   "metadata": {},
   "source": [
    "---\n",
    "## Storage Data"
   ]
  },
  {
   "cell_type": "code",
   "execution_count": 3,
   "metadata": {},
   "outputs": [],
   "source": [
    "def save_data_processed(df: 'dataframe' = None,\n",
    "                       path: str = 'data/processed/') -> None:\n",
    "    df.to_csv(path_or_buf = path,\n",
    "              sep = ',',\n",
    "              index = False,\n",
    "              encoding = 'utf8',\n",
    "              header = True)\n",
    "    \n",
    "    return \"Data recorded!\""
   ]
  },
  {
   "cell_type": "code",
   "execution_count": null,
   "metadata": {},
   "outputs": [],
   "source": [
    "save_data_processed(df = df,\n",
    "                   path = 'movimentacoes_tjam_peticoes_iniciais.csv')"
   ]
  }
 ],
 "metadata": {
  "kernelspec": {
   "display_name": "Python 3",
   "language": "python",
   "name": "python3"
  },
  "language_info": {
   "codemirror_mode": {
    "name": "ipython",
    "version": 3
   },
   "file_extension": ".py",
   "mimetype": "text/x-python",
   "name": "python",
   "nbconvert_exporter": "python",
   "pygments_lexer": "ipython3",
   "version": "3.6.8"
  }
 },
 "nbformat": 4,
 "nbformat_minor": 2
}
