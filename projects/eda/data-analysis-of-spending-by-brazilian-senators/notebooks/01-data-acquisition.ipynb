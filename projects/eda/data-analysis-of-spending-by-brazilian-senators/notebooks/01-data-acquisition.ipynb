{
 "cells": [
  {
   "cell_type": "markdown",
   "metadata": {},
   "source": [
    "# **Data Acquisition**"
   ]
  },
  {
   "cell_type": "markdown",
   "metadata": {
    "jp-MarkdownHeadingCollapsed": true,
    "tags": []
   },
   "source": [
    "---\n",
    "\n",
    "## **Prepare Environment**"
   ]
  },
  {
   "cell_type": "markdown",
   "metadata": {},
   "source": [
    "<br/>\n",
    "\n",
    "### Imports"
   ]
  },
  {
   "cell_type": "code",
   "execution_count": 1,
   "metadata": {},
   "outputs": [],
   "source": [
    "# Data analysis and data wrangling\n",
    "import numpy as np\n",
    "import pandas as pd\n",
    "\n",
    "# Plotting\n",
    "import seaborn as sns\n",
    "import matplotlib.pyplot as plt\n",
    "import missingno as msno # missing values\n",
    "\n",
    "# Wragling\n",
    "from bs4 import BeautifulSoup\n",
    "\n",
    "# Other\n",
    "import configparser\n",
    "import subprocess\n",
    "import warnings\n",
    "import pprint\n",
    "import time\n",
    "import os"
   ]
  },
  {
   "cell_type": "markdown",
   "metadata": {},
   "source": [
    "<br/>\n",
    "\n",
    "### Prepare Principal Directory"
   ]
  },
  {
   "cell_type": "code",
   "execution_count": 2,
   "metadata": {},
   "outputs": [],
   "source": [
    "def path_to_work(end_directory: str='notebooks'):\n",
    "    curr_dir = os.path.dirname(os.path.realpath (\"__file__\")) \n",
    "    \n",
    "    if curr_dir.endswith(end_directory):\n",
    "        os.chdir('..')\n",
    "        return f'Change directory to: {curr_dir}'\n",
    "    \n",
    "    return f'Current working directory: {curr_dir}'"
   ]
  },
  {
   "cell_type": "code",
   "execution_count": 3,
   "metadata": {},
   "outputs": [
    {
     "data": {
      "text/plain": [
       "'Change directory to: /home/campos/projects/data-analysis-of-spending-by-brazilian-senators/notebooks'"
      ]
     },
     "execution_count": 3,
     "metadata": {},
     "output_type": "execute_result"
    }
   ],
   "source": [
    "path_to_work('notebooks')"
   ]
  },
  {
   "cell_type": "markdown",
   "metadata": {},
   "source": [
    "<br/>\n",
    "\n",
    "### Set Config"
   ]
  },
  {
   "cell_type": "code",
   "execution_count": 4,
   "metadata": {},
   "outputs": [],
   "source": [
    "# Visualization inside the jupyter\n",
    "%matplotlib inline\n",
    "\n",
    "# Load the \"autoreload\" extension so that code can change\n",
    "%load_ext autoreload\n",
    "\n",
    "# ----------\n",
    "# Plot\n",
    "# ----------\n",
    "# graph style\n",
    "sns.set_style(\"darkgrid\")\n",
    "plt.style.use('fivethirtyeight')\n",
    "\n",
    "# ----------\n",
    "# Pandas\n",
    "# ----------\n",
    "# Floating point\n",
    "pd.options.display.float_format = '{:.2f}'.format\n",
    "\n",
    "# Print xxxx rows and all columns\n",
    "pd.set_option('display.max_rows', 300)\n",
    "pd.set_option('display.max_columns', None)\n",
    "\n",
    "# ----------\n",
    "# Python\n",
    "# ----------\n",
    "# pretty print\n",
    "pp = pprint.PrettyPrinter(indent=4)\n",
    "\n",
    "# Supress unnecessary warnings so that presentation looks clean\n",
    "warnings.filterwarnings('ignore')"
   ]
  },
  {
   "cell_type": "markdown",
   "metadata": {},
   "source": [
    "---\n",
    "\n",
    "## **Collect Initial Data**\n",
    "- The data were collected from [Portal da transparência](https://www12.senado.leg.br/transparencia/dados-abertos-transparencia/dados-abertos-ceaps)\n",
    "- **Years**: 2008 until 2021\n",
    "- **Format**: CSV"
   ]
  },
  {
   "cell_type": "code",
   "execution_count": 5,
   "metadata": {},
   "outputs": [],
   "source": [
    "# Site to get csv\n",
    "url = 'https://www12.senado.leg.br/transparencia/dados-abertos-transparencia/dados-abertos-ceaps'"
   ]
  },
  {
   "cell_type": "code",
   "execution_count": 6,
   "metadata": {},
   "outputs": [],
   "source": [
    "# from <package>.<module> import <class>\n",
    "from src.download_data import *"
   ]
  },
  {
   "cell_type": "code",
   "execution_count": 8,
   "metadata": {},
   "outputs": [
    {
     "name": "stdout",
     "output_type": "stream",
     "text": [
      "Try analysing page ...\n",
      "https://www.senado.gov.br/transparencia/LAI/verba/despesa_ceaps_2021.csv\n",
      "https://www.senado.gov.br/transparencia/LAI/verba/despesa_ceaps_2020.csv\n",
      "https://www.senado.gov.br/transparencia/LAI/verba/despesa_ceaps_2019.csv\n",
      "https://www.senado.gov.br/transparencia/LAI/verba/despesa_ceaps_2018.csv\n",
      "https://www.senado.gov.br/transparencia/LAI/verba/despesa_ceaps_2017.csv\n",
      "https://www.senado.gov.br/transparencia/LAI/verba/despesa_ceaps_2016.csv\n",
      "https://www.senado.gov.br/transparencia/LAI/verba/despesa_ceaps_2015.csv\n",
      "https://www.senado.gov.br/transparencia/LAI/verba/despesa_ceaps_2014.csv\n",
      "https://www.senado.gov.br/transparencia/LAI/verba/despesa_ceaps_2013.csv\n",
      "https://www.senado.gov.br/transparencia/LAI/verba/despesa_ceaps_2012.csv\n",
      "https://www.senado.gov.br/transparencia/LAI/verba/despesa_ceaps_2011.csv\n",
      "https://www.senado.gov.br/transparencia/LAI/verba/despesa_ceaps_2010.csv\n",
      "https://www.senado.gov.br/transparencia/LAI/verba/despesa_ceaps_2009.csv\n",
      "https://www.senado.gov.br/transparencia/LAI/verba/despesa_ceaps_2008.csv\n",
      "data/raw/despesa_ceaps_2021.csv downloaded!\n",
      "data/raw/despesa_ceaps_2020.csv downloaded!\n",
      "data/raw/despesa_ceaps_2019.csv downloaded!\n",
      "data/raw/despesa_ceaps_2018.csv downloaded!\n",
      "data/raw/despesa_ceaps_2017.csv downloaded!\n",
      "data/raw/despesa_ceaps_2016.csv downloaded!\n",
      "data/raw/despesa_ceaps_2015.csv downloaded!\n",
      "data/raw/despesa_ceaps_2014.csv downloaded!\n",
      "data/raw/despesa_ceaps_2013.csv downloaded!\n",
      "data/raw/despesa_ceaps_2012.csv downloaded!\n",
      "data/raw/despesa_ceaps_2011.csv downloaded!\n",
      "data/raw/despesa_ceaps_2010.csv downloaded!\n",
      "data/raw/despesa_ceaps_2009.csv downloaded!\n",
      "data/raw/despesa_ceaps_2008.csv downloaded!\n",
      "CPU times: user 7min 50s, sys: 1.06 s, total: 7min 51s\n",
      "Wall time: 8min 7s\n"
     ]
    }
   ],
   "source": [
    "%%time\n",
    "\n",
    "download_file_csv(url)"
   ]
  },
  {
   "cell_type": "code",
   "execution_count": 9,
   "metadata": {},
   "outputs": [
    {
     "name": "stdout",
     "output_type": "stream",
     "text": [
      "total 75584\n",
      "-rw-rw-r-- 1 campos campos  437714 dez 21 08:25 despesa_ceaps_2008.csv\n",
      "-rw-rw-r-- 1 campos campos 3370591 dez 21 08:25 despesa_ceaps_2009.csv\n",
      "-rw-rw-r-- 1 campos campos 3771610 dez 21 08:25 despesa_ceaps_2010.csv\n",
      "-rw-rw-r-- 1 campos campos 5578887 dez 21 08:24 despesa_ceaps_2011.csv\n",
      "-rw-rw-r-- 1 campos campos 6740856 dez 21 08:24 despesa_ceaps_2012.csv\n",
      "-rw-rw-r-- 1 campos campos 7830956 dez 21 08:23 despesa_ceaps_2013.csv\n",
      "-rw-rw-r-- 1 campos campos 6272586 dez 21 08:22 despesa_ceaps_2014.csv\n",
      "-rw-rw-r-- 1 campos campos 7466156 dez 21 08:22 despesa_ceaps_2015.csv\n",
      "-rw-rw-r-- 1 campos campos 7611002 dez 21 08:21 despesa_ceaps_2016.csv\n",
      "-rw-rw-r-- 1 campos campos 7610055 dez 21 08:20 despesa_ceaps_2017.csv\n",
      "-rw-rw-r-- 1 campos campos 6951876 dez 21 08:19 despesa_ceaps_2018.csv\n",
      "-rw-rw-r-- 1 campos campos 5896424 dez 21 08:19 despesa_ceaps_2019.csv\n",
      "-rw-rw-r-- 1 campos campos 3725203 dez 21 08:18 despesa_ceaps_2020.csv\n",
      "-rw-rw-r-- 1 campos campos 4110356 dez 21 08:18 despesa_ceaps_2021.csv\n"
     ]
    }
   ],
   "source": [
    "!ls -lt data/raw"
   ]
  },
  {
   "cell_type": "markdown",
   "metadata": {},
   "source": [
    "---"
   ]
  }
 ],
 "metadata": {
  "kernelspec": {
   "display_name": "Python 3 (ipykernel)",
   "language": "python",
   "name": "python3"
  },
  "language_info": {
   "codemirror_mode": {
    "name": "ipython",
    "version": 3
   },
   "file_extension": ".py",
   "mimetype": "text/x-python",
   "name": "python",
   "nbconvert_exporter": "python",
   "pygments_lexer": "ipython3",
   "version": "3.8.10"
  }
 },
 "nbformat": 4,
 "nbformat_minor": 4
}
