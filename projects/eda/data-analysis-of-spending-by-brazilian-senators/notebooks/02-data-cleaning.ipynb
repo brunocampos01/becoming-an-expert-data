{
 "cells": [
  {
   "cell_type": "markdown",
   "metadata": {
    "tags": []
   },
   "source": [
    "# **Data Preparation**\n",
    "- Select Data\n",
    "- Clean Data\n",
    "- Construct Data\n",
    "- Format Data"
   ]
  },
  {
   "cell_type": "markdown",
   "metadata": {
    "jp-MarkdownHeadingCollapsed": true,
    "tags": []
   },
   "source": [
    "---\n",
    "\n",
    "## **Prepare Environment**"
   ]
  },
  {
   "cell_type": "markdown",
   "metadata": {},
   "source": [
    "<br/>\n",
    "\n",
    "### Imports"
   ]
  },
  {
   "cell_type": "code",
   "execution_count": 48,
   "metadata": {},
   "outputs": [],
   "source": [
    "# Data analysis and data wrangling\n",
    "import numpy as np\n",
    "import pandas as pd\n",
    "\n",
    "# Plotting\n",
    "import seaborn as sns\n",
    "import matplotlib.pyplot as plt\n",
    "import missingno as msno # analise de variáveis vazia\n",
    "\n",
    "# Other\n",
    "import configparser\n",
    "import subprocess\n",
    "import warnings\n",
    "import pprint\n",
    "import time\n",
    "import os"
   ]
  },
  {
   "cell_type": "markdown",
   "metadata": {},
   "source": [
    "<br/>\n",
    "\n",
    "### Prepare Principal Directory"
   ]
  },
  {
   "cell_type": "code",
   "execution_count": 49,
   "metadata": {
    "scrolled": true
   },
   "outputs": [],
   "source": [
    "def path_to_work(end_directory: str='notebooks'):\n",
    "    curr_dir = os.path.dirname(os.path.realpath (\"__file__\")) \n",
    "    \n",
    "    if curr_dir.endswith(end_directory):\n",
    "        os.chdir('..')\n",
    "        return f'Change directory to: {curr_dir}'\n",
    "    \n",
    "    return f'Current working directory: {curr_dir}'"
   ]
  },
  {
   "cell_type": "code",
   "execution_count": 50,
   "metadata": {},
   "outputs": [
    {
     "data": {
      "text/plain": [
       "'Current working directory: /home/campos/projects/data-analysis-of-spending-by-brazilian-senators'"
      ]
     },
     "execution_count": 50,
     "metadata": {},
     "output_type": "execute_result"
    }
   ],
   "source": [
    "path_to_work('notebooks')"
   ]
  },
  {
   "cell_type": "markdown",
   "metadata": {},
   "source": [
    "<br/>\n",
    "\n",
    "### Set Config"
   ]
  },
  {
   "cell_type": "code",
   "execution_count": 51,
   "metadata": {},
   "outputs": [
    {
     "name": "stdout",
     "output_type": "stream",
     "text": [
      "The autoreload extension is already loaded. To reload it, use:\n",
      "  %reload_ext autoreload\n"
     ]
    }
   ],
   "source": [
    "# Visualization inside the jupyter\n",
    "%matplotlib inline\n",
    "\n",
    "# Load the \"autoreload\" extension so that code can change\n",
    "%load_ext autoreload\n",
    "\n",
    "# ----------\n",
    "# Plot\n",
    "# ----------\n",
    "# graph style\n",
    "sns.set_style(\"darkgrid\")\n",
    "plt.style.use('fivethirtyeight')\n",
    "\n",
    "# ----------\n",
    "# Pandas\n",
    "# ----------\n",
    "# Floating point\n",
    "pd.options.display.float_format = '{:.2f}'.format\n",
    "\n",
    "# Print xxxx rows and all columns\n",
    "pd.set_option('display.max_rows', 300)\n",
    "pd.set_option('display.max_columns', None)\n",
    "\n",
    "# ----------\n",
    "# Python\n",
    "# ----------\n",
    "# pretty print\n",
    "pp = pprint.PrettyPrinter(indent=4)\n",
    "\n",
    "# Supress unnecessary warnings so that presentation looks clean\n",
    "warnings.filterwarnings('ignore')"
   ]
  },
  {
   "cell_type": "markdown",
   "metadata": {
    "jp-MarkdownHeadingCollapsed": true,
    "tags": []
   },
   "source": [
    "---\n",
    "\n",
    "## **Data Understanding**\n",
    "\n",
    "### Collect Initial Data\n",
    "- The data were collected from [Portal da transparência](https://www12.senado.leg.br/transparencia/dados-abertos-transparencia/dados-abertos-ceaps)\n",
    "- **Years**: 2008 until 2021\n",
    "- **Format**: CSV\n",
    "\n",
    "### File Descriptions\n",
    "- `despesas_ceaps_<YEAR>.csv` - dataset"
   ]
  },
  {
   "cell_type": "markdown",
   "metadata": {},
   "source": [
    "<br/>\n",
    "\n",
    "### Load Dataset"
   ]
  },
  {
   "cell_type": "code",
   "execution_count": 52,
   "metadata": {
    "scrolled": true
   },
   "outputs": [
    {
     "name": "stdout",
     "output_type": "stream",
     "text": [
      "Tokenization took: 19.52 ms\n",
      "Type conversion took: 28.65 ms\n",
      "Parser memory cleanup took: 0.01 ms\n",
      "CPU times: user 91.7 ms, sys: 3.59 ms, total: 95.3 ms\n",
      "Wall time: 93.2 ms\n"
     ]
    }
   ],
   "source": [
    "%%time\n",
    "\n",
    "df = pd.read_csv('data/raw/despesa_ceaps_2021.csv', \n",
    "                 encoding='latin1',\n",
    "                 delimiter=';', \n",
    "                 verbose=True)"
   ]
  },
  {
   "cell_type": "markdown",
   "metadata": {},
   "source": [
    "<br/>\n",
    "\n"
   ]
  },
  {
   "cell_type": "code",
   "execution_count": 53,
   "metadata": {},
   "outputs": [
    {
     "name": "stdout",
     "output_type": "stream",
     "text": [
      "Dataframe:\n",
      "15201 rows\n",
      "2 columns\n"
     ]
    }
   ],
   "source": [
    "# hide_code\n",
    "\n",
    "print(\"Dataframe:\\n{} rows\\n{} columns\"\n",
    "      .format(df.shape[0],\n",
    "              df.shape[1]))"
   ]
  },
  {
   "cell_type": "code",
   "execution_count": 54,
   "metadata": {},
   "outputs": [
    {
     "data": {
      "text/html": [
       "<div>\n",
       "<style scoped>\n",
       "    .dataframe tbody tr th:only-of-type {\n",
       "        vertical-align: middle;\n",
       "    }\n",
       "\n",
       "    .dataframe tbody tr th {\n",
       "        vertical-align: top;\n",
       "    }\n",
       "\n",
       "    .dataframe thead th {\n",
       "        text-align: right;\n",
       "    }\n",
       "</style>\n",
       "<table border=\"1\" class=\"dataframe\">\n",
       "  <thead>\n",
       "    <tr style=\"text-align: right;\">\n",
       "      <th></th>\n",
       "      <th></th>\n",
       "      <th></th>\n",
       "      <th></th>\n",
       "      <th></th>\n",
       "      <th></th>\n",
       "      <th></th>\n",
       "      <th></th>\n",
       "      <th></th>\n",
       "      <th>ULTIMA ATUALIZACAO</th>\n",
       "      <th>21/12/2021 02:00</th>\n",
       "    </tr>\n",
       "  </thead>\n",
       "  <tbody>\n",
       "    <tr>\n",
       "      <th>ANO</th>\n",
       "      <th>MES</th>\n",
       "      <th>SENADOR</th>\n",
       "      <th>TIPO_DESPESA</th>\n",
       "      <th>CNPJ_CPF</th>\n",
       "      <th>FORNECEDOR</th>\n",
       "      <th>DOCUMENTO</th>\n",
       "      <th>DATA</th>\n",
       "      <th>DETALHAMENTO</th>\n",
       "      <td>VALOR_REEMBOLSADO</td>\n",
       "      <td>COD_DOCUMENTO</td>\n",
       "    </tr>\n",
       "    <tr>\n",
       "      <th>2021</th>\n",
       "      <th>1</th>\n",
       "      <th>ACIR GURGACZ</th>\n",
       "      <th>Aluguel de imóveis para escritório político, compreendendo despesas concernentes a eles.</th>\n",
       "      <th>05.914.650/0001-66</th>\n",
       "      <th>ENERGISA</th>\n",
       "      <th>023.489.627</th>\n",
       "      <th>21/01/2021</th>\n",
       "      <th>Pagamento de energia elétrica para uso do escritório de apoio do Senador Acir Gurgacz</th>\n",
       "      <td>75,29</td>\n",
       "      <td>2158003</td>\n",
       "    </tr>\n",
       "  </tbody>\n",
       "</table>\n",
       "</div>"
      ],
      "text/plain": [
       "                                                                                                                                                                                 ULTIMA ATUALIZACAO  \\\n",
       "ANO  MES SENADOR      TIPO_DESPESA                                       CNPJ_CPF           FORNECEDOR DOCUMENTO   DATA       DETALHAMENTO                                        VALOR_REEMBOLSADO   \n",
       "2021 1   ACIR GURGACZ Aluguel de imóveis para escritório político, co... 05.914.650/0001-66 ENERGISA   023.489.627 21/01/2021 Pagamento de energia elétrica para uso do escri...              75,29   \n",
       "\n",
       "                                                                                                                                                                                 21/12/2021 02:00  \n",
       "ANO  MES SENADOR      TIPO_DESPESA                                       CNPJ_CPF           FORNECEDOR DOCUMENTO   DATA       DETALHAMENTO                                          COD_DOCUMENTO  \n",
       "2021 1   ACIR GURGACZ Aluguel de imóveis para escritório político, co... 05.914.650/0001-66 ENERGISA   023.489.627 21/01/2021 Pagamento de energia elétrica para uso do escri...          2158003  "
      ]
     },
     "execution_count": 54,
     "metadata": {},
     "output_type": "execute_result"
    }
   ],
   "source": [
    "df.head(2)"
   ]
  },
  {
   "cell_type": "markdown",
   "metadata": {},
   "source": [
    "**NOTES**\n",
    "<br/>\n",
    "- The data is not good formatted\n",
    "- It is necessary remove the first row"
   ]
  },
  {
   "cell_type": "markdown",
   "metadata": {},
   "source": [
    "Remove the 1ª row"
   ]
  },
  {
   "cell_type": "code",
   "execution_count": 55,
   "metadata": {},
   "outputs": [
    {
     "name": "stdout",
     "output_type": "stream",
     "text": [
      "Tokenization took: 20.15 ms\n",
      "Type conversion took: 32.08 ms\n",
      "Parser memory cleanup took: 0.01 ms\n",
      "CPU times: user 60.3 ms, sys: 2.76 ms, total: 63 ms\n",
      "Wall time: 61.9 ms\n"
     ]
    }
   ],
   "source": [
    "%%time\n",
    "\n",
    "df = pd.read_csv('data/raw/despesa_ceaps_2021.csv', \n",
    "                  encoding='latin1',\n",
    "                  delimiter=';', \n",
    "                  header=1, # start df\n",
    "                  verbose=True)"
   ]
  },
  {
   "cell_type": "code",
   "execution_count": 56,
   "metadata": {},
   "outputs": [
    {
     "name": "stdout",
     "output_type": "stream",
     "text": [
      "<class 'pandas.core.frame.DataFrame'>\n",
      "RangeIndex: 15200 entries, 0 to 15199\n",
      "Data columns (total 11 columns):\n",
      " #   Column             Non-Null Count  Dtype \n",
      "---  ------             --------------  ----- \n",
      " 0   ANO                15200 non-null  int64 \n",
      " 1   MES                15200 non-null  int64 \n",
      " 2   SENADOR            15200 non-null  object\n",
      " 3   TIPO_DESPESA       15200 non-null  object\n",
      " 4   CNPJ_CPF           15200 non-null  object\n",
      " 5   FORNECEDOR         15200 non-null  object\n",
      " 6   DOCUMENTO          14588 non-null  object\n",
      " 7   DATA               15200 non-null  object\n",
      " 8   DETALHAMENTO       8245 non-null   object\n",
      " 9   VALOR_REEMBOLSADO  15200 non-null  object\n",
      " 10  COD_DOCUMENTO      15200 non-null  int64 \n",
      "dtypes: int64(3), object(8)\n",
      "memory usage: 1.3+ MB\n"
     ]
    }
   ],
   "source": [
    "df.info()"
   ]
  },
  {
   "cell_type": "markdown",
   "metadata": {},
   "source": [
    "**NOTES**\n",
    "<br/>\n",
    "- Os dados estão com formato de `;`\n",
    "- Coluna `SENADOR` é o _target_\n",
    "- Há 10 colunas\n",
    "- 26691 linhas\n",
    "- A data com maior número de pedido de reembolso foi 01/06/2016, por quê?\n",
    "- Analisando as variáveis que temos para trabalhar é possível notar que será necessário converter algumas colunas de String para tipo numérico e assim conseguir aplicar alguma técnica de análise.\n",
    "- É possível ter valores _missing_ pois nem todas as colunas tem o mesmo número de linhas.\n",
    "- Analisar o SENADOR 90, pois é quem masi teve pedidos de reembolso nesse ano.\n",
    "\n",
    "### Análise das Features\n",
    "- `ANO(int64)`\n",
    "- `MES(int64)`\n",
    "- `SENADOR:` há 93 senadores\n",
    "- `TIPO_DESPESA`: 7 tipos de dispesas diferentes\n",
    "- `CNPJ_CPF(object)`: de quem prestou o serviço\n",
    "- `FORNECEDOR`: há 4319 fornecedores diferentes\n",
    "- `DOCUMENTO(object)`\n",
    "- `DATA`: data da dispesa\n",
    "- `DETALHAMENTO(object)`\n",
    "- `VALOR_REEMBOLSADO`: valor reembolsado"
   ]
  },
  {
   "cell_type": "markdown",
   "metadata": {},
   "source": [
    "<br/>\n",
    "\n",
    "### **Explore Data**\n",
    "First, let's explore what the column types are."
   ]
  },
  {
   "cell_type": "code",
   "execution_count": 57,
   "metadata": {},
   "outputs": [],
   "source": [
    "# Lists that will be manipulated in the data processing\n",
    "list_columns = []\n",
    "list_categorical_col = []\n",
    "list_numerical_col = []"
   ]
  },
  {
   "cell_type": "code",
   "execution_count": 58,
   "metadata": {},
   "outputs": [],
   "source": [
    "def get_col(df: pd.core.frame.DataFrame, type_descr: 'numpy') -> list:\n",
    "    \"\"\"\n",
    "    Function get list columns \n",
    "    \n",
    "    Args:\n",
    "    type_descr\n",
    "        np.number, np.object -> return list with all columns\n",
    "        np.number            -> return list numerical columns \n",
    "        np.object            -> return list object columns\n",
    "    \"\"\"\n",
    "    try:\n",
    "        col = (df.describe(include=type_descr).columns) \n",
    "    except ValueError:\n",
    "        print(f'Dataframe not contains {type_descr} columns !', end='\\n')    \n",
    "    else:\n",
    "        return col.tolist()"
   ]
  },
  {
   "cell_type": "code",
   "execution_count": 63,
   "metadata": {},
   "outputs": [],
   "source": [
    "list_numerical_col = get_col(df=df,\n",
    "                             type_descr=np.number)\n",
    "list_categorical_col = get_col(df=df,\n",
    "                               type_descr=np.object)\n",
    "list_columns = get_col(df=df,\n",
    "                       type_descr=[np.object, np.number])"
   ]
  },
  {
   "cell_type": "markdown",
   "metadata": {},
   "source": [
    "<br/>\n",
    "\n",
    "### Measure Location"
   ]
  },
  {
   "cell_type": "code",
   "execution_count": 60,
   "metadata": {},
   "outputs": [],
   "source": [
    "def show_measures_location(df: pd.core.frame.DataFrame, type_descr: 'list') -> None:\n",
    "    \"\"\"\n",
    "    Function get measures localization + total col + % type columns \n",
    "    Handler when type data not exists\n",
    "    \n",
    "    Args:\n",
    "    type_descr\n",
    "        np.number, np.object  -> return summary statistic with all columns\n",
    "        np.number             -> return summary statistic numerical columns \n",
    "        np.object             -> return summary statistic object columns\n",
    "    \"\"\"\n",
    "    try:\n",
    "        col = (df.describe(include=type_descr).columns)  # pandas.core.indexes.base.Index  \n",
    "    except ValueError:\n",
    "        print(f'Dataframe not contains {type_descr} columns !', end='\\n\\n')    \n",
    "    else:\n",
    "        list_col = col.tolist()\n",
    "        percentage = (len(list_col) / df.shape[1]) * 100\n",
    "        \n",
    "        print(\"-\"*25, \"MEASURES OF LOCALIZATION\", \"-\"*25, end='\\n\\n')\n",
    "        print(f\"TOTAL columns {type_descr}: {len(list_col)}\")\n",
    "        print(\"PERCENTAGE {} in dataframe: {:3.4} %\".format(type_descr, percentage))\n",
    "        \n",
    "        return df.describe(include=type_descr)"
   ]
  },
  {
   "cell_type": "code",
   "execution_count": 62,
   "metadata": {},
   "outputs": [
    {
     "name": "stdout",
     "output_type": "stream",
     "text": [
      "------------------------- MEASURES OF LOCALIZATION -------------------------\n",
      "\n",
      "TOTAL columns [<class 'numpy.number'>, <class 'object'>]: 11\n",
      "PERCENTAGE [<class 'numpy.number'>, <class 'object'>] in dataframe: 100.0 %\n"
     ]
    },
    {
     "data": {
      "text/html": [
       "<div>\n",
       "<style scoped>\n",
       "    .dataframe tbody tr th:only-of-type {\n",
       "        vertical-align: middle;\n",
       "    }\n",
       "\n",
       "    .dataframe tbody tr th {\n",
       "        vertical-align: top;\n",
       "    }\n",
       "\n",
       "    .dataframe thead th {\n",
       "        text-align: right;\n",
       "    }\n",
       "</style>\n",
       "<table border=\"1\" class=\"dataframe\">\n",
       "  <thead>\n",
       "    <tr style=\"text-align: right;\">\n",
       "      <th></th>\n",
       "      <th>ANO</th>\n",
       "      <th>MES</th>\n",
       "      <th>SENADOR</th>\n",
       "      <th>TIPO_DESPESA</th>\n",
       "      <th>CNPJ_CPF</th>\n",
       "      <th>FORNECEDOR</th>\n",
       "      <th>DOCUMENTO</th>\n",
       "      <th>DATA</th>\n",
       "      <th>DETALHAMENTO</th>\n",
       "      <th>VALOR_REEMBOLSADO</th>\n",
       "      <th>COD_DOCUMENTO</th>\n",
       "    </tr>\n",
       "  </thead>\n",
       "  <tbody>\n",
       "    <tr>\n",
       "      <th>count</th>\n",
       "      <td>15200.00</td>\n",
       "      <td>15200.00</td>\n",
       "      <td>15200</td>\n",
       "      <td>15200</td>\n",
       "      <td>15200</td>\n",
       "      <td>15200</td>\n",
       "      <td>14588</td>\n",
       "      <td>15200</td>\n",
       "      <td>8245</td>\n",
       "      <td>15200</td>\n",
       "      <td>15200.00</td>\n",
       "    </tr>\n",
       "    <tr>\n",
       "      <th>unique</th>\n",
       "      <td>NaN</td>\n",
       "      <td>NaN</td>\n",
       "      <td>86</td>\n",
       "      <td>7</td>\n",
       "      <td>2626</td>\n",
       "      <td>2806</td>\n",
       "      <td>12980</td>\n",
       "      <td>396</td>\n",
       "      <td>5205</td>\n",
       "      <td>8083</td>\n",
       "      <td>NaN</td>\n",
       "    </tr>\n",
       "    <tr>\n",
       "      <th>top</th>\n",
       "      <td>NaN</td>\n",
       "      <td>NaN</td>\n",
       "      <td>JAQUES WAGNER</td>\n",
       "      <td>Locomoção, hospedagem, alimentação, combustíve...</td>\n",
       "      <td>16.978.175/0001-08</td>\n",
       "      <td>ADRIA VIAGENS E TURISMO LTDA</td>\n",
       "      <td>S/N</td>\n",
       "      <td>01/07/2021</td>\n",
       "      <td>DESPESA COM COMBUSTÍVEL EM VEÍCULOS UTILIZADOS...</td>\n",
       "      <td>100</td>\n",
       "      <td>NaN</td>\n",
       "    </tr>\n",
       "    <tr>\n",
       "      <th>freq</th>\n",
       "      <td>NaN</td>\n",
       "      <td>NaN</td>\n",
       "      <td>624</td>\n",
       "      <td>5145</td>\n",
       "      <td>1024</td>\n",
       "      <td>432</td>\n",
       "      <td>48</td>\n",
       "      <td>128</td>\n",
       "      <td>442</td>\n",
       "      <td>412</td>\n",
       "      <td>NaN</td>\n",
       "    </tr>\n",
       "    <tr>\n",
       "      <th>mean</th>\n",
       "      <td>2021.00</td>\n",
       "      <td>6.44</td>\n",
       "      <td>NaN</td>\n",
       "      <td>NaN</td>\n",
       "      <td>NaN</td>\n",
       "      <td>NaN</td>\n",
       "      <td>NaN</td>\n",
       "      <td>NaN</td>\n",
       "      <td>NaN</td>\n",
       "      <td>NaN</td>\n",
       "      <td>2163264.20</td>\n",
       "    </tr>\n",
       "    <tr>\n",
       "      <th>std</th>\n",
       "      <td>0.00</td>\n",
       "      <td>3.08</td>\n",
       "      <td>NaN</td>\n",
       "      <td>NaN</td>\n",
       "      <td>NaN</td>\n",
       "      <td>NaN</td>\n",
       "      <td>NaN</td>\n",
       "      <td>NaN</td>\n",
       "      <td>NaN</td>\n",
       "      <td>NaN</td>\n",
       "      <td>4925.38</td>\n",
       "    </tr>\n",
       "    <tr>\n",
       "      <th>min</th>\n",
       "      <td>2021.00</td>\n",
       "      <td>1.00</td>\n",
       "      <td>NaN</td>\n",
       "      <td>NaN</td>\n",
       "      <td>NaN</td>\n",
       "      <td>NaN</td>\n",
       "      <td>NaN</td>\n",
       "      <td>NaN</td>\n",
       "      <td>NaN</td>\n",
       "      <td>NaN</td>\n",
       "      <td>2154172.00</td>\n",
       "    </tr>\n",
       "    <tr>\n",
       "      <th>25%</th>\n",
       "      <td>2021.00</td>\n",
       "      <td>4.00</td>\n",
       "      <td>NaN</td>\n",
       "      <td>NaN</td>\n",
       "      <td>NaN</td>\n",
       "      <td>NaN</td>\n",
       "      <td>NaN</td>\n",
       "      <td>NaN</td>\n",
       "      <td>NaN</td>\n",
       "      <td>NaN</td>\n",
       "      <td>2159125.50</td>\n",
       "    </tr>\n",
       "    <tr>\n",
       "      <th>50%</th>\n",
       "      <td>2021.00</td>\n",
       "      <td>7.00</td>\n",
       "      <td>NaN</td>\n",
       "      <td>NaN</td>\n",
       "      <td>NaN</td>\n",
       "      <td>NaN</td>\n",
       "      <td>NaN</td>\n",
       "      <td>NaN</td>\n",
       "      <td>NaN</td>\n",
       "      <td>NaN</td>\n",
       "      <td>2163336.50</td>\n",
       "    </tr>\n",
       "    <tr>\n",
       "      <th>75%</th>\n",
       "      <td>2021.00</td>\n",
       "      <td>9.00</td>\n",
       "      <td>NaN</td>\n",
       "      <td>NaN</td>\n",
       "      <td>NaN</td>\n",
       "      <td>NaN</td>\n",
       "      <td>NaN</td>\n",
       "      <td>NaN</td>\n",
       "      <td>NaN</td>\n",
       "      <td>NaN</td>\n",
       "      <td>2167490.25</td>\n",
       "    </tr>\n",
       "    <tr>\n",
       "      <th>max</th>\n",
       "      <td>2021.00</td>\n",
       "      <td>12.00</td>\n",
       "      <td>NaN</td>\n",
       "      <td>NaN</td>\n",
       "      <td>NaN</td>\n",
       "      <td>NaN</td>\n",
       "      <td>NaN</td>\n",
       "      <td>NaN</td>\n",
       "      <td>NaN</td>\n",
       "      <td>NaN</td>\n",
       "      <td>2172160.00</td>\n",
       "    </tr>\n",
       "  </tbody>\n",
       "</table>\n",
       "</div>"
      ],
      "text/plain": [
       "            ANO      MES        SENADOR  \\\n",
       "count  15200.00 15200.00          15200   \n",
       "unique      NaN      NaN             86   \n",
       "top         NaN      NaN  JAQUES WAGNER   \n",
       "freq        NaN      NaN            624   \n",
       "mean    2021.00     6.44            NaN   \n",
       "std        0.00     3.08            NaN   \n",
       "min     2021.00     1.00            NaN   \n",
       "25%     2021.00     4.00            NaN   \n",
       "50%     2021.00     7.00            NaN   \n",
       "75%     2021.00     9.00            NaN   \n",
       "max     2021.00    12.00            NaN   \n",
       "\n",
       "                                             TIPO_DESPESA            CNPJ_CPF  \\\n",
       "count                                               15200               15200   \n",
       "unique                                                  7                2626   \n",
       "top     Locomoção, hospedagem, alimentação, combustíve...  16.978.175/0001-08   \n",
       "freq                                                 5145                1024   \n",
       "mean                                                  NaN                 NaN   \n",
       "std                                                   NaN                 NaN   \n",
       "min                                                   NaN                 NaN   \n",
       "25%                                                   NaN                 NaN   \n",
       "50%                                                   NaN                 NaN   \n",
       "75%                                                   NaN                 NaN   \n",
       "max                                                   NaN                 NaN   \n",
       "\n",
       "                          FORNECEDOR DOCUMENTO        DATA  \\\n",
       "count                          15200     14588       15200   \n",
       "unique                          2806     12980         396   \n",
       "top     ADRIA VIAGENS E TURISMO LTDA       S/N  01/07/2021   \n",
       "freq                             432        48         128   \n",
       "mean                             NaN       NaN         NaN   \n",
       "std                              NaN       NaN         NaN   \n",
       "min                              NaN       NaN         NaN   \n",
       "25%                              NaN       NaN         NaN   \n",
       "50%                              NaN       NaN         NaN   \n",
       "75%                              NaN       NaN         NaN   \n",
       "max                              NaN       NaN         NaN   \n",
       "\n",
       "                                             DETALHAMENTO VALOR_REEMBOLSADO  \\\n",
       "count                                                8245             15200   \n",
       "unique                                               5205              8083   \n",
       "top     DESPESA COM COMBUSTÍVEL EM VEÍCULOS UTILIZADOS...               100   \n",
       "freq                                                  442               412   \n",
       "mean                                                  NaN               NaN   \n",
       "std                                                   NaN               NaN   \n",
       "min                                                   NaN               NaN   \n",
       "25%                                                   NaN               NaN   \n",
       "50%                                                   NaN               NaN   \n",
       "75%                                                   NaN               NaN   \n",
       "max                                                   NaN               NaN   \n",
       "\n",
       "        COD_DOCUMENTO  \n",
       "count        15200.00  \n",
       "unique            NaN  \n",
       "top               NaN  \n",
       "freq              NaN  \n",
       "mean       2163264.20  \n",
       "std           4925.38  \n",
       "min        2154172.00  \n",
       "25%        2159125.50  \n",
       "50%        2163336.50  \n",
       "75%        2167490.25  \n",
       "max        2172160.00  "
      ]
     },
     "execution_count": 62,
     "metadata": {},
     "output_type": "execute_result"
    }
   ],
   "source": [
    "show_measures_location(df=df,\n",
    "                       type_descr=[np.number, np.object])"
   ]
  },
  {
   "cell_type": "markdown",
   "metadata": {
    "jp-MarkdownHeadingCollapsed": true,
    "tags": []
   },
   "source": [
    "---\n",
    "\n",
    "## **Data Preparation: Cleaning**"
   ]
  },
  {
   "cell_type": "markdown",
   "metadata": {},
   "source": [
    "<br/>\n",
    "\n",
    "### **Map Values**"
   ]
  },
  {
   "cell_type": "markdown",
   "metadata": {},
   "source": [
    "#### Column: `SENADOR`\n",
    "- senadores devem ser mapeados para valores numéricos"
   ]
  },
  {
   "cell_type": "code",
   "execution_count": 70,
   "metadata": {
    "scrolled": true
   },
   "outputs": [
    {
     "name": "stdout",
     "output_type": "stream",
     "text": [
      "{   'ACIR GURGACZ': 1,\n",
      "    'ALESSANDRO VIEIRA': 2,\n",
      "    'ALVARO DIAS': 3,\n",
      "    'ANGELO CORONEL': 4,\n",
      "    'ANTONIO ANASTASIA': 5,\n",
      "    'CARLOS FÁVARO': 6,\n",
      "    'CARLOS PORTINHO': 7,\n",
      "    'CARLOS VIANA': 8,\n",
      "    'CHICO RODRIGUES': 9,\n",
      "    'CHIQUINHO FEITOSA': 10,\n",
      "    'CID GOMES': 11,\n",
      "    'CIRO NOGUEIRA': 12,\n",
      "    'CONFÚCIO MOURA': 13,\n",
      "    'DANIELLA RIBEIRO': 14,\n",
      "    'DAVI ALCOLUMBRE': 16,\n",
      "    'DÁRIO BERGER': 15,\n",
      "    'EDUARDO BRAGA': 17,\n",
      "    'EDUARDO GIRÃO': 18,\n",
      "    'EDUARDO GOMES': 19,\n",
      "    'ELIANE NOGUEIRA': 20,\n",
      "    'ELIZIANE GAMA': 21,\n",
      "    'ELMANO FÉRRER': 22,\n",
      "    'ESPERIDIÃO AMIN': 23,\n",
      "    'FABIANO CONTARATO': 24,\n",
      "    'FERNANDO BEZERRA COELHO': 25,\n",
      "    'FERNANDO COLLOR': 26,\n",
      "    'FLÁVIO ARNS': 27,\n",
      "    'FLÁVIO BOLSONARO': 28,\n",
      "    'GIORDANO': 29,\n",
      "    'HUMBERTO COSTA': 30,\n",
      "    'IRAJÁ': 31,\n",
      "    'IZALCI LUCAS': 32,\n",
      "    'JADER BARBALHO': 33,\n",
      "    'JAQUES WAGNER': 34,\n",
      "    'JARBAS VASCONCELOS': 35,\n",
      "    'JAYME CAMPOS': 36,\n",
      "    'JEAN PAUL PRATES': 37,\n",
      "    'JORGINHO MELLO': 38,\n",
      "    'JOSÉ ANÍBAL': 39,\n",
      "    'JOSÉ SERRA': 40,\n",
      "    'KÁTIA ABREU': 41,\n",
      "    'LASIER MARTINS': 42,\n",
      "    'LUCAS BARRETO': 43,\n",
      "    'LUIS CARLOS HEINZE': 44,\n",
      "    'LUIZ CARLOS DO CARMO': 45,\n",
      "    'MAILZA GOMES': 46,\n",
      "    'MAJOR OLIMPIO': 47,\n",
      "    'MARA GABRILLI': 48,\n",
      "    'MARCELO CASTRO': 49,\n",
      "    'MARCIO BITTAR': 50,\n",
      "    'MARCOS DO VAL': 51,\n",
      "    'MARCOS ROGÉRIO': 52,\n",
      "    'MARIA DO CARMO ALVES': 53,\n",
      "    'MARIA ELIZA DE AGUIAR E SILVA': 54,\n",
      "    'MECIAS DE JESUS': 55,\n",
      "    'NAILDE PANTA': 56,\n",
      "    'NELSINHO TRAD': 57,\n",
      "    'NEY SUASSUNA': 58,\n",
      "    'NILDA GONDIM': 59,\n",
      "    'OMAR AZIZ': 60,\n",
      "    'ORIOVISTO GUIMARÃES': 61,\n",
      "    'OTTO ALENCAR': 62,\n",
      "    'PAULO PAIM': 63,\n",
      "    'PAULO ROCHA': 64,\n",
      "    'PLÍNIO VALÉRIO': 65,\n",
      "    'RANDOLFE RODRIGUES': 66,\n",
      "    'RENAN CALHEIROS': 67,\n",
      "    'ROBERTO ROCHA': 68,\n",
      "    'RODRIGO CUNHA': 69,\n",
      "    'RODRIGO PACHECO': 70,\n",
      "    'ROGÉRIO CARVALHO': 71,\n",
      "    'ROMÁRIO': 72,\n",
      "    'ROSE DE FREITAS': 73,\n",
      "    'SIMONE TEBET': 75,\n",
      "    'SORAYA THRONICKE': 76,\n",
      "    'STYVENSON VALENTIM': 77,\n",
      "    'SÉRGIO PETECÃO': 74,\n",
      "    'TASSO JEREISSATI': 78,\n",
      "    'TELMÁRIO MOTA': 79,\n",
      "    'VANDERLAN CARDOSO': 80,\n",
      "    'VENEZIANO VITAL DO RÊGO': 81,\n",
      "    'VIRGINIO DE CARVALHO': 82,\n",
      "    'WELLINGTON FAGUNDES': 83,\n",
      "    'WEVERTON ROCHA': 84,\n",
      "    'ZENAIDE MAIA': 85,\n",
      "    'ZEQUINHA MARINHO': 86,\n",
      "    'senador_name': 'number'}\n"
     ]
    }
   ],
   "source": [
    "# Mapping (name)String in (number)integer\n",
    "\n",
    "dict_map_senadores = {'senador_name': 'number'}\n",
    "value = 0\n",
    "\n",
    "for name in df['SENADOR']:\n",
    "    \n",
    "    if name in dict_map_senadores:\n",
    "        dict_map_senadores[name] = value\n",
    "    else:\n",
    "        value += 1\n",
    "        dict_map_senadores[name] = value\n",
    "\n",
    "pp.pprint(dict_map_senadores)"
   ]
  },
  {
   "cell_type": "code",
   "execution_count": 71,
   "metadata": {},
   "outputs": [
    {
     "name": "stdout",
     "output_type": "stream",
     "text": [
      "CPU times: user 4.35 ms, sys: 70 µs, total: 4.42 ms\n",
      "Wall time: 3.76 ms\n"
     ]
    }
   ],
   "source": [
    "%%time\n",
    "\n",
    "# Replace dictionary in collumn SENADOR\n",
    "df['SENADOR'] = df['SENADOR'].map(dict_map_senadores)"
   ]
  },
  {
   "cell_type": "code",
   "execution_count": 72,
   "metadata": {},
   "outputs": [
    {
     "data": {
      "text/html": [
       "<div>\n",
       "<style scoped>\n",
       "    .dataframe tbody tr th:only-of-type {\n",
       "        vertical-align: middle;\n",
       "    }\n",
       "\n",
       "    .dataframe tbody tr th {\n",
       "        vertical-align: top;\n",
       "    }\n",
       "\n",
       "    .dataframe thead th {\n",
       "        text-align: right;\n",
       "    }\n",
       "</style>\n",
       "<table border=\"1\" class=\"dataframe\">\n",
       "  <thead>\n",
       "    <tr style=\"text-align: right;\">\n",
       "      <th></th>\n",
       "      <th>ANO</th>\n",
       "      <th>MES</th>\n",
       "      <th>SENADOR</th>\n",
       "      <th>TIPO_DESPESA</th>\n",
       "      <th>CNPJ_CPF</th>\n",
       "      <th>FORNECEDOR</th>\n",
       "      <th>DOCUMENTO</th>\n",
       "      <th>DATA</th>\n",
       "      <th>DETALHAMENTO</th>\n",
       "      <th>VALOR_REEMBOLSADO</th>\n",
       "      <th>COD_DOCUMENTO</th>\n",
       "    </tr>\n",
       "  </thead>\n",
       "  <tbody>\n",
       "    <tr>\n",
       "      <th>0</th>\n",
       "      <td>2021</td>\n",
       "      <td>1</td>\n",
       "      <td>1</td>\n",
       "      <td>Aluguel de imóveis para escritório político, c...</td>\n",
       "      <td>05.914.650/0001-66</td>\n",
       "      <td>ENERGISA</td>\n",
       "      <td>023.489.627</td>\n",
       "      <td>21/01/2021</td>\n",
       "      <td>Pagamento de energia elétrica para uso do escr...</td>\n",
       "      <td>75,29</td>\n",
       "      <td>2158003</td>\n",
       "    </tr>\n",
       "  </tbody>\n",
       "</table>\n",
       "</div>"
      ],
      "text/plain": [
       "    ANO  MES SENADOR                                       TIPO_DESPESA  \\\n",
       "0  2021    1       1  Aluguel de imóveis para escritório político, c...   \n",
       "\n",
       "             CNPJ_CPF FORNECEDOR    DOCUMENTO        DATA  \\\n",
       "0  05.914.650/0001-66   ENERGISA  023.489.627  21/01/2021   \n",
       "\n",
       "                                        DETALHAMENTO VALOR_REEMBOLSADO  \\\n",
       "0  Pagamento de energia elétrica para uso do escr...             75,29   \n",
       "\n",
       "   COD_DOCUMENTO  \n",
       "0        2158003  "
      ]
     },
     "execution_count": 72,
     "metadata": {},
     "output_type": "execute_result"
    }
   ],
   "source": [
    "df.head(1)"
   ]
  },
  {
   "cell_type": "code",
   "execution_count": 73,
   "metadata": {},
   "outputs": [
    {
     "data": {
      "text/html": [
       "<div>\n",
       "<style scoped>\n",
       "    .dataframe tbody tr th:only-of-type {\n",
       "        vertical-align: middle;\n",
       "    }\n",
       "\n",
       "    .dataframe tbody tr th {\n",
       "        vertical-align: top;\n",
       "    }\n",
       "\n",
       "    .dataframe thead th {\n",
       "        text-align: right;\n",
       "    }\n",
       "</style>\n",
       "<table border=\"1\" class=\"dataframe\">\n",
       "  <thead>\n",
       "    <tr style=\"text-align: right;\">\n",
       "      <th></th>\n",
       "      <th>ANO</th>\n",
       "      <th>MES</th>\n",
       "      <th>SENADOR</th>\n",
       "      <th>TIPO_DESPESA</th>\n",
       "      <th>CNPJ_CPF</th>\n",
       "      <th>FORNECEDOR</th>\n",
       "      <th>DOCUMENTO</th>\n",
       "      <th>DATA</th>\n",
       "      <th>DETALHAMENTO</th>\n",
       "      <th>VALOR_REEMBOLSADO</th>\n",
       "      <th>COD_DOCUMENTO</th>\n",
       "    </tr>\n",
       "  </thead>\n",
       "  <tbody>\n",
       "    <tr>\n",
       "      <th>15199</th>\n",
       "      <td>2021</td>\n",
       "      <td>11</td>\n",
       "      <td>86</td>\n",
       "      <td>Passagens aéreas, aquáticas e terrestres nacio...</td>\n",
       "      <td>22.052.777/0001-32</td>\n",
       "      <td>Exceller Tour</td>\n",
       "      <td>JASTUN</td>\n",
       "      <td>25/11/2021</td>\n",
       "      <td>Companhia Aérea: GOL, Localizador: JASTUN. Pas...</td>\n",
       "      <td>2522,85</td>\n",
       "      <td>2170571</td>\n",
       "    </tr>\n",
       "  </tbody>\n",
       "</table>\n",
       "</div>"
      ],
      "text/plain": [
       "        ANO  MES SENADOR                                       TIPO_DESPESA  \\\n",
       "15199  2021   11      86  Passagens aéreas, aquáticas e terrestres nacio...   \n",
       "\n",
       "                 CNPJ_CPF     FORNECEDOR DOCUMENTO        DATA  \\\n",
       "15199  22.052.777/0001-32  Exceller Tour    JASTUN  25/11/2021   \n",
       "\n",
       "                                            DETALHAMENTO VALOR_REEMBOLSADO  \\\n",
       "15199  Companhia Aérea: GOL, Localizador: JASTUN. Pas...           2522,85   \n",
       "\n",
       "       COD_DOCUMENTO  \n",
       "15199        2170571  "
      ]
     },
     "execution_count": 73,
     "metadata": {},
     "output_type": "execute_result"
    }
   ],
   "source": [
    "df.tail(1)"
   ]
  },
  {
   "cell_type": "markdown",
   "metadata": {},
   "source": [
    "#### Column: `CNPJ_CPF`"
   ]
  },
  {
   "cell_type": "code",
   "execution_count": 74,
   "metadata": {},
   "outputs": [],
   "source": [
    "# Mapping (name)String in (number)integer\n",
    "\n",
    "dict_map_cnpj_cpf = {'CNPJ_CPF': 'number'}\n",
    "value = 0\n",
    "\n",
    "for name in df['CNPJ_CPF']:\n",
    "    \n",
    "    if name in dict_map_cnpj_cpf:\n",
    "        dict_map_cnpj_cpf[name] = value\n",
    "    else:\n",
    "        value += 1\n",
    "        dict_map_cnpj_cpf[name] = value"
   ]
  },
  {
   "cell_type": "code",
   "execution_count": 75,
   "metadata": {},
   "outputs": [
    {
     "name": "stdout",
     "output_type": "stream",
     "text": [
      "CPU times: user 3.96 ms, sys: 0 ns, total: 3.96 ms\n",
      "Wall time: 3.34 ms\n"
     ]
    }
   ],
   "source": [
    "%%time\n",
    "\n",
    "# Replace dictionary in collumn SENADOR\n",
    "df['CNPJ_CPF'] = df['CNPJ_CPF'].map(dict_map_cnpj_cpf)"
   ]
  },
  {
   "cell_type": "markdown",
   "metadata": {},
   "source": [
    "#### Column: `FORNECEDOR`"
   ]
  },
  {
   "cell_type": "code",
   "execution_count": 76,
   "metadata": {},
   "outputs": [],
   "source": [
    "# Mapping (name)String in (number)integer\n",
    "\n",
    "dict_map_fornecedor = {'FORNECEDOR': 'number'}\n",
    "value = 0\n",
    "\n",
    "for name in df['FORNECEDOR']:\n",
    "    \n",
    "    if name in dict_map_fornecedor:\n",
    "        dict_map_fornecedor[name] = value\n",
    "    else:\n",
    "        value += 1\n",
    "        dict_map_fornecedor[name] = value"
   ]
  },
  {
   "cell_type": "code",
   "execution_count": 77,
   "metadata": {},
   "outputs": [
    {
     "name": "stdout",
     "output_type": "stream",
     "text": [
      "CPU times: user 2.85 ms, sys: 708 µs, total: 3.55 ms\n",
      "Wall time: 3.35 ms\n"
     ]
    }
   ],
   "source": [
    "%%time\n",
    "\n",
    "# Replace dictionary in collumn SENADOR\n",
    "df['FORNECEDOR'] = df['FORNECEDOR'].map(dict_map_fornecedor)"
   ]
  },
  {
   "cell_type": "markdown",
   "metadata": {
    "tags": []
   },
   "source": [
    "#### Column: `TIPO_DESPESA`\n",
    "- `TIPO_DESPESA` deve ter Strings menores\n",
    "- Será mapeado"
   ]
  },
  {
   "cell_type": "code",
   "execution_count": 78,
   "metadata": {},
   "outputs": [
    {
     "name": "stdout",
     "output_type": "stream",
     "text": [
      "['Aluguel de imóveis para escritório político, compreendendo despesas concernentes a eles.'\n",
      " 'Divulgação da atividade parlamentar'\n",
      " 'Passagens aéreas, aquáticas e terrestres nacionais'\n",
      " 'Locomoção, hospedagem, alimentação, combustíveis e lubrificantes'\n",
      " 'Contratação de consultorias, assessorias, pesquisas, trabalhos técnicos e outros serviços de apoio ao exercício do mandato parlamentar'\n",
      " 'Aquisição de material de consumo para uso no escritório político, inclusive aquisição ou locação de software, despesas postais, aquisição de publicações, locação de móveis e de equipamentos. '\n",
      " 'Serviços de Segurança Privada']\n"
     ]
    }
   ],
   "source": [
    "print(df['TIPO_DESPESA'].unique())"
   ]
  },
  {
   "cell_type": "code",
   "execution_count": 79,
   "metadata": {
    "scrolled": true
   },
   "outputs": [],
   "source": [
    "# Mapping new values to collumn 'TIPO_DESPESA'\n",
    "\n",
    "df['TIPO_DESPESA'] = df['TIPO_DESPESA'].map({'Aluguel de imóveis para escritório político, compreendendo despesas concernentes a eles.': 'Aluguel',\n",
    "                                             'Aquisição de material de consumo para uso no escritório político, inclusive aquisição ou locação de software, despesas postais, aquisição de publicações, locação de móveis e de equipamentos. ': 'Despesas gerais',\n",
    "                                             'Contratação de consultorias, assessorias, pesquisas, trabalhos técnicos e outros serviços de apoio ao exercício do mandato parlamentar': 'Contratações',\n",
    "                                             'Locomoção, hospedagem, alimentação, combustíveis e lubrificantes': 'Locomoção, hospedagem e alimentação',\n",
    "                                             'Passagens aéreas, aquáticas e terrestres nacionais': 'Passagens',\n",
    "                                             'Divulgação da atividade parlamentar': 'Divulgação',\n",
    "                                             'Serviços de Segurança Privada': 'Segurança'})"
   ]
  },
  {
   "cell_type": "code",
   "execution_count": 80,
   "metadata": {},
   "outputs": [
    {
     "data": {
      "text/html": [
       "<div>\n",
       "<style scoped>\n",
       "    .dataframe tbody tr th:only-of-type {\n",
       "        vertical-align: middle;\n",
       "    }\n",
       "\n",
       "    .dataframe tbody tr th {\n",
       "        vertical-align: top;\n",
       "    }\n",
       "\n",
       "    .dataframe thead th {\n",
       "        text-align: right;\n",
       "    }\n",
       "</style>\n",
       "<table border=\"1\" class=\"dataframe\">\n",
       "  <thead>\n",
       "    <tr style=\"text-align: right;\">\n",
       "      <th></th>\n",
       "      <th>ANO</th>\n",
       "      <th>MES</th>\n",
       "      <th>SENADOR</th>\n",
       "      <th>TIPO_DESPESA</th>\n",
       "      <th>CNPJ_CPF</th>\n",
       "      <th>FORNECEDOR</th>\n",
       "      <th>DOCUMENTO</th>\n",
       "      <th>DATA</th>\n",
       "      <th>DETALHAMENTO</th>\n",
       "      <th>VALOR_REEMBOLSADO</th>\n",
       "      <th>COD_DOCUMENTO</th>\n",
       "    </tr>\n",
       "  </thead>\n",
       "  <tbody>\n",
       "    <tr>\n",
       "      <th>0</th>\n",
       "      <td>2021</td>\n",
       "      <td>1</td>\n",
       "      <td>1</td>\n",
       "      <td>Aluguel</td>\n",
       "      <td>1795</td>\n",
       "      <td>529</td>\n",
       "      <td>023.489.627</td>\n",
       "      <td>21/01/2021</td>\n",
       "      <td>Pagamento de energia elétrica para uso do escr...</td>\n",
       "      <td>75,29</td>\n",
       "      <td>2158003</td>\n",
       "    </tr>\n",
       "  </tbody>\n",
       "</table>\n",
       "</div>"
      ],
      "text/plain": [
       "    ANO  MES SENADOR TIPO_DESPESA CNPJ_CPF FORNECEDOR    DOCUMENTO  \\\n",
       "0  2021    1       1      Aluguel     1795        529  023.489.627   \n",
       "\n",
       "         DATA                                       DETALHAMENTO  \\\n",
       "0  21/01/2021  Pagamento de energia elétrica para uso do escr...   \n",
       "\n",
       "  VALOR_REEMBOLSADO  COD_DOCUMENTO  \n",
       "0             75,29        2158003  "
      ]
     },
     "execution_count": 80,
     "metadata": {},
     "output_type": "execute_result"
    }
   ],
   "source": [
    "df.head(1)"
   ]
  },
  {
   "cell_type": "markdown",
   "metadata": {},
   "source": [
    "#### Column: `VALOR_REEMBOLSADO`\n",
    "- Esta com o padrão `,`, para trabalhar com os dados é melhor deixar no padrão `.`"
   ]
  },
  {
   "cell_type": "code",
   "execution_count": 81,
   "metadata": {},
   "outputs": [
    {
     "data": {
      "text/plain": [
       "0    75,29\n",
       "1     1000\n",
       "2     6000\n",
       "3     1500\n",
       "4     6000\n",
       "Name: VALOR_REEMBOLSADO, dtype: object"
      ]
     },
     "execution_count": 81,
     "metadata": {},
     "output_type": "execute_result"
    }
   ],
   "source": [
    "df['VALOR_REEMBOLSADO'].head()"
   ]
  },
  {
   "cell_type": "code",
   "execution_count": 82,
   "metadata": {
    "scrolled": true
   },
   "outputs": [],
   "source": [
    "df['VALOR_REEMBOLSADO'] = df['VALOR_REEMBOLSADO'].str.replace(',', '.')"
   ]
  },
  {
   "cell_type": "code",
   "execution_count": 83,
   "metadata": {},
   "outputs": [
    {
     "data": {
      "text/html": [
       "<div>\n",
       "<style scoped>\n",
       "    .dataframe tbody tr th:only-of-type {\n",
       "        vertical-align: middle;\n",
       "    }\n",
       "\n",
       "    .dataframe tbody tr th {\n",
       "        vertical-align: top;\n",
       "    }\n",
       "\n",
       "    .dataframe thead th {\n",
       "        text-align: right;\n",
       "    }\n",
       "</style>\n",
       "<table border=\"1\" class=\"dataframe\">\n",
       "  <thead>\n",
       "    <tr style=\"text-align: right;\">\n",
       "      <th></th>\n",
       "      <th>ANO</th>\n",
       "      <th>MES</th>\n",
       "      <th>SENADOR</th>\n",
       "      <th>TIPO_DESPESA</th>\n",
       "      <th>CNPJ_CPF</th>\n",
       "      <th>FORNECEDOR</th>\n",
       "      <th>DOCUMENTO</th>\n",
       "      <th>DATA</th>\n",
       "      <th>DETALHAMENTO</th>\n",
       "      <th>VALOR_REEMBOLSADO</th>\n",
       "      <th>COD_DOCUMENTO</th>\n",
       "    </tr>\n",
       "  </thead>\n",
       "  <tbody>\n",
       "    <tr>\n",
       "      <th>0</th>\n",
       "      <td>2021</td>\n",
       "      <td>1</td>\n",
       "      <td>1</td>\n",
       "      <td>Aluguel</td>\n",
       "      <td>1795</td>\n",
       "      <td>529</td>\n",
       "      <td>023.489.627</td>\n",
       "      <td>21/01/2021</td>\n",
       "      <td>Pagamento de energia elétrica para uso do escr...</td>\n",
       "      <td>75.29</td>\n",
       "      <td>2158003</td>\n",
       "    </tr>\n",
       "  </tbody>\n",
       "</table>\n",
       "</div>"
      ],
      "text/plain": [
       "    ANO  MES SENADOR TIPO_DESPESA CNPJ_CPF FORNECEDOR    DOCUMENTO  \\\n",
       "0  2021    1       1      Aluguel     1795        529  023.489.627   \n",
       "\n",
       "         DATA                                       DETALHAMENTO  \\\n",
       "0  21/01/2021  Pagamento de energia elétrica para uso do escr...   \n",
       "\n",
       "  VALOR_REEMBOLSADO  COD_DOCUMENTO  \n",
       "0             75.29        2158003  "
      ]
     },
     "execution_count": 83,
     "metadata": {},
     "output_type": "execute_result"
    }
   ],
   "source": [
    "df.head(1)"
   ]
  },
  {
   "cell_type": "markdown",
   "metadata": {
    "tags": []
   },
   "source": [
    "#### Column: `DATA`\n",
    "- Checar possíveis preenchimento inconsistentes."
   ]
  },
  {
   "cell_type": "code",
   "execution_count": 84,
   "metadata": {
    "scrolled": true
   },
   "outputs": [],
   "source": [
    "for row in df['DATA']:\n",
    "    if (row < '*2020') is True and (row >'*2022'):\n",
    "        print(row)"
   ]
  },
  {
   "cell_type": "markdown",
   "metadata": {
    "tags": []
   },
   "source": [
    "<br/>\n",
    "\n",
    "### Check Unique Values"
   ]
  },
  {
   "cell_type": "code",
   "execution_count": 114,
   "metadata": {
    "scrolled": true
   },
   "outputs": [
    {
     "name": "stdout",
     "output_type": "stream",
     "text": [
      "ANO                      1\n",
      "MES                     12\n",
      "SENADOR                 86\n",
      "TIPO_DESPESA             7\n",
      "CNPJ_CPF              1552\n",
      "FORNECEDOR            1644\n",
      "DOCUMENTO            12980\n",
      "DATA                   396\n",
      "DETALHAMENTO          5205\n",
      "VALOR_REEMBOLSADO     8083\n",
      "COD_DOCUMENTO        15200\n",
      "dtype: int64\n"
     ]
    }
   ],
   "source": [
    "values_unique = df.nunique()\n",
    "print(values_unique)"
   ]
  },
  {
   "cell_type": "markdown",
   "metadata": {},
   "source": [
    "<br/>\n",
    "\n",
    "### **Verify Data Quality**\n",
    "- Check index\n",
    "- Check for missing values\n",
    "- Check for missing data in the cells\n",
    "- Check for duplicate values\n",
    "- Check for irrelevant values\n",
    "- Check for outliers"
   ]
  },
  {
   "cell_type": "markdown",
   "metadata": {},
   "source": [
    "<br/>\n",
    "\n",
    "### Check Index"
   ]
  },
  {
   "cell_type": "code",
   "execution_count": 85,
   "metadata": {},
   "outputs": [
    {
     "data": {
      "text/plain": [
       "RangeIndex(start=0, stop=15200, step=1)"
      ]
     },
     "execution_count": 85,
     "metadata": {},
     "output_type": "execute_result"
    }
   ],
   "source": [
    "df.index"
   ]
  },
  {
   "cell_type": "markdown",
   "metadata": {},
   "source": [
    "**NOTE**\n",
    "<br/>\n",
    "- The dataset has no missing index values, so there are no missing lines."
   ]
  },
  {
   "cell_type": "markdown",
   "metadata": {},
   "source": [
    "<br/>\n",
    "\n",
    "### Remove id (index)"
   ]
  },
  {
   "cell_type": "code",
   "execution_count": 86,
   "metadata": {},
   "outputs": [
    {
     "data": {
      "text/plain": [
       "Index(['ANO', 'MES', 'SENADOR', 'TIPO_DESPESA', 'CNPJ_CPF', 'FORNECEDOR',\n",
       "       'DOCUMENTO', 'DATA', 'DETALHAMENTO', 'VALOR_REEMBOLSADO',\n",
       "       'COD_DOCUMENTO'],\n",
       "      dtype='object')"
      ]
     },
     "execution_count": 86,
     "metadata": {},
     "output_type": "execute_result"
    }
   ],
   "source": [
    "df.columns"
   ]
  },
  {
   "cell_type": "markdown",
   "metadata": {},
   "source": [
    "**NOTE**\n",
    "<br/>\n",
    "This dataset not contains ID column"
   ]
  },
  {
   "cell_type": "code",
   "execution_count": 88,
   "metadata": {
    "scrolled": true
   },
   "outputs": [
    {
     "name": "stdout",
     "output_type": "stream",
     "text": [
      "------------------------- Dictionary with Values Map by Column -------------------------\n",
      "\n"
     ]
    }
   ],
   "source": [
    "dict_cat_unique = generate_cat_unique_by_col(df, \n",
    "                                             *list_columns)\n",
    "# pp.pprint(dict_cat_unique)"
   ]
  },
  {
   "cell_type": "markdown",
   "metadata": {},
   "source": [
    "<br/>\n",
    "\n",
    "### Missing Values\n",
    "\n",
    "**ASK:** \"Dados faltantes é porque não foi gravado ou porque não existe?\"<br/>\n",
    "Para responder essa questão é necessário analisar os _missing values_.."
   ]
  },
  {
   "cell_type": "code",
   "execution_count": 89,
   "metadata": {},
   "outputs": [
    {
     "name": "stdout",
     "output_type": "stream",
     "text": [
      "ANO                  False\n",
      "MES                  False\n",
      "SENADOR              False\n",
      "TIPO_DESPESA         False\n",
      "CNPJ_CPF             False\n",
      "FORNECEDOR           False\n",
      "DOCUMENTO             True\n",
      "DATA                 False\n",
      "DETALHAMENTO          True\n",
      "VALOR_REEMBOLSADO    False\n",
      "COD_DOCUMENTO        False\n",
      "dtype: bool\n"
     ]
    }
   ],
   "source": [
    "# return TRUE if collumn contains values missing\n",
    "\n",
    "missing = df.isnull().any()\n",
    "print(missing)"
   ]
  },
  {
   "cell_type": "code",
   "execution_count": 90,
   "metadata": {},
   "outputs": [],
   "source": [
    "# isnull()\n",
    "\n",
    "def check_if_contains_missing_val(df: pd.core.frame.DataFrame):\n",
    "    \"\"\"\n",
    "    Return TRUE, if collumn contains values missing\n",
    "    \"\"\"\n",
    "    list_columns_missing = []\n",
    "    \n",
    "    for index, value in enumerate(df.isnull().any()):\n",
    "        if value is True:\n",
    "            list_columns_missing.append(df.columns[index])\n",
    "    \n",
    "    if len(list_columns_missing) > 0:\n",
    "        print(\"Columns's name with missing values:\")\n",
    "        return list_columns_missing   \n",
    "    \n",
    "    print(\"The dataframe NOT contains missing values.\")\n",
    "    return 0"
   ]
  },
  {
   "cell_type": "code",
   "execution_count": 91,
   "metadata": {},
   "outputs": [
    {
     "name": "stdout",
     "output_type": "stream",
     "text": [
      "Columns's name with missing values:\n"
     ]
    },
    {
     "data": {
      "text/plain": [
       "['DOCUMENTO', 'DETALHAMENTO']"
      ]
     },
     "metadata": {},
     "output_type": "display_data"
    }
   ],
   "source": [
    "list_columns_m_v = check_if_contains_missing_val(df)\n",
    "\n",
    "display(list_columns_m_v)  # display show one column by line"
   ]
  },
  {
   "cell_type": "code",
   "execution_count": 92,
   "metadata": {},
   "outputs": [],
   "source": [
    "def check_quat_missing_data(df: pd.core.frame.DataFrame, columns_m_v: list) -> None:\n",
    "    \"\"\"\n",
    "    Check if contains missing data\n",
    "    Mark missing, if line contains NaN in any column\n",
    "    \"\"\"    \n",
    "    if len(columns_m_v) > 0:\n",
    "        missing_values_count = df.isnull().sum()\n",
    "        total_missing = missing_values_count.sum()\n",
    "        total_lines = df.shape[0]\n",
    "        total_cells = np.product(df.shape)\n",
    "\n",
    "        percentage_by_line = (total_missing/total_lines) * 100\n",
    "        percentage_by_cell = (total_missing/total_cells) * 100\n",
    "\n",
    "        # by column\n",
    "        quant_missing_by_column = df[columns_m_v].isnull().sum()\n",
    "        percentage_missing_by_column = (quant_missing_by_column/total_lines) * 100\n",
    "\n",
    "        print(\"-\"*25, \"MISSING VALUES\", \"-\"*25)\n",
    "        print(\"\\nSHAPE of data: {}\".format(df.shape[0]))\n",
    "        print(\"TOTAL missing values: {}\".format(total_missing))\n",
    "        print(\"TOTAL missing values by column:\\n{}\\n\".format(quant_missing_by_column))\n",
    "\n",
    "        print(\"PERCENTAGE missing values by row: {:2.3} %\".format(percentage_by_line))\n",
    "        print(\"PERCENTAGE missing values by cell: {:2.3} %\".format(percentage_by_cell))\n",
    "        print(\"PERCENTAGE missing values by column:\\n{}\".format(percentage_missing_by_column)) "
   ]
  },
  {
   "cell_type": "code",
   "execution_count": 93,
   "metadata": {},
   "outputs": [
    {
     "name": "stdout",
     "output_type": "stream",
     "text": [
      "------------------------- MISSING VALUES -------------------------\n",
      "\n",
      "SHAPE of data: 15200\n",
      "TOTAL missing values: 7567\n",
      "TOTAL missing values by column:\n",
      "DOCUMENTO        612\n",
      "DETALHAMENTO    6955\n",
      "dtype: int64\n",
      "\n",
      "PERCENTAGE missing values by row: 49.8 %\n",
      "PERCENTAGE missing values by cell: 4.53 %\n",
      "PERCENTAGE missing values by column:\n",
      "DOCUMENTO       4.03\n",
      "DETALHAMENTO   45.76\n",
      "dtype: float64\n"
     ]
    }
   ],
   "source": [
    "check_quat_missing_data(df, list_columns_m_v)"
   ]
  },
  {
   "cell_type": "markdown",
   "metadata": {},
   "source": [
    "#### Show Missing by Columns"
   ]
  },
  {
   "cell_type": "code",
   "execution_count": 94,
   "metadata": {},
   "outputs": [
    {
     "data": {
      "text/plain": [
       "<AxesSubplot:>"
      ]
     },
     "execution_count": 94,
     "metadata": {},
     "output_type": "execute_result"
    },
    {
     "data": {
      "image/png": "[encoded data removed]",
      "text/plain": [
       "<Figure size 1440x720 with 3 Axes>"
      ]
     },
     "metadata": {},
     "output_type": "display_data"
    }
   ],
   "source": [
    "msno.bar(df,figsize=(20,10),fontsize=14,labels=True, color='black')"
   ]
  },
  {
   "cell_type": "code",
   "execution_count": 95,
   "metadata": {},
   "outputs": [
    {
     "data": {
      "text/plain": [
       "<AxesSubplot:>"
      ]
     },
     "execution_count": 95,
     "metadata": {},
     "output_type": "execute_result"
    },
    {
     "data": {
      "image/png": "[encoded data removed]",
      "text/plain": [
       "<Figure size 1296x576 with 2 Axes>"
      ]
     },
     "metadata": {},
     "output_type": "display_data"
    }
   ],
   "source": [
    "sorted_data = msno.nullity_sort(df)\n",
    "\n",
    "msno.matrix(sorted_data,\n",
    "            color=None,\n",
    "            figsize=(18,8),\n",
    "            fontsize=14)"
   ]
  },
  {
   "cell_type": "markdown",
   "metadata": {},
   "source": [
    "#### Note\n",
    "- Há vários _outliers_ que necessitam ser tratados individualmente\n",
    "- Há valores preenchidos incorretamente e devem ser tratados 1 por 1\n",
    "- _missing values_ são provindos da **falta de preenchimento**.\n",
    "- Há poucos dados faltando, cerca de 2.7 %, por isso será utilizado a técnica de preencher com -1 os valores _missing_."
   ]
  },
  {
   "cell_type": "markdown",
   "metadata": {},
   "source": [
    "### Handling Missing Values\n",
    "- tag: `missing` para valores categóricos \n"
   ]
  },
  {
   "cell_type": "code",
   "execution_count": 96,
   "metadata": {},
   "outputs": [],
   "source": [
    "df.fillna('MISSING', inplace=True)"
   ]
  },
  {
   "cell_type": "code",
   "execution_count": 97,
   "metadata": {
    "scrolled": true
   },
   "outputs": [
    {
     "data": {
      "text/html": [
       "<div>\n",
       "<style scoped>\n",
       "    .dataframe tbody tr th:only-of-type {\n",
       "        vertical-align: middle;\n",
       "    }\n",
       "\n",
       "    .dataframe tbody tr th {\n",
       "        vertical-align: top;\n",
       "    }\n",
       "\n",
       "    .dataframe thead th {\n",
       "        text-align: right;\n",
       "    }\n",
       "</style>\n",
       "<table border=\"1\" class=\"dataframe\">\n",
       "  <thead>\n",
       "    <tr style=\"text-align: right;\">\n",
       "      <th></th>\n",
       "      <th>ANO</th>\n",
       "      <th>MES</th>\n",
       "      <th>SENADOR</th>\n",
       "      <th>TIPO_DESPESA</th>\n",
       "      <th>CNPJ_CPF</th>\n",
       "      <th>FORNECEDOR</th>\n",
       "      <th>DOCUMENTO</th>\n",
       "      <th>DATA</th>\n",
       "      <th>DETALHAMENTO</th>\n",
       "      <th>VALOR_REEMBOLSADO</th>\n",
       "      <th>COD_DOCUMENTO</th>\n",
       "    </tr>\n",
       "  </thead>\n",
       "  <tbody>\n",
       "    <tr>\n",
       "      <th>175</th>\n",
       "      <td>2021</td>\n",
       "      <td>1</td>\n",
       "      <td>2</td>\n",
       "      <td>Aluguel</td>\n",
       "      <td>40</td>\n",
       "      <td>39</td>\n",
       "      <td>853</td>\n",
       "      <td>15/01/2021</td>\n",
       "      <td>MISSING</td>\n",
       "      <td>500</td>\n",
       "      <td>2155145</td>\n",
       "    </tr>\n",
       "    <tr>\n",
       "      <th>176</th>\n",
       "      <td>2021</td>\n",
       "      <td>1</td>\n",
       "      <td>2</td>\n",
       "      <td>Aluguel</td>\n",
       "      <td>40</td>\n",
       "      <td>39</td>\n",
       "      <td>71943790582</td>\n",
       "      <td>09/03/2021</td>\n",
       "      <td>MISSING</td>\n",
       "      <td>3300</td>\n",
       "      <td>2156928</td>\n",
       "    </tr>\n",
       "  </tbody>\n",
       "</table>\n",
       "</div>"
      ],
      "text/plain": [
       "      ANO  MES  SENADOR TIPO_DESPESA  CNPJ_CPF  FORNECEDOR    DOCUMENTO  \\\n",
       "175  2021    1        2      Aluguel        40          39          853   \n",
       "176  2021    1        2      Aluguel        40          39  71943790582   \n",
       "\n",
       "           DATA DETALHAMENTO VALOR_REEMBOLSADO  COD_DOCUMENTO  \n",
       "175  15/01/2021      MISSING               500        2155145  \n",
       "176  09/03/2021      MISSING              3300        2156928  "
      ]
     },
     "execution_count": 97,
     "metadata": {},
     "output_type": "execute_result"
    }
   ],
   "source": [
    "df.query('DETALHAMENTO == \"MISSING\"').head(2)"
   ]
  },
  {
   "cell_type": "code",
   "execution_count": 98,
   "metadata": {},
   "outputs": [
    {
     "data": {
      "text/html": [
       "<div>\n",
       "<style scoped>\n",
       "    .dataframe tbody tr th:only-of-type {\n",
       "        vertical-align: middle;\n",
       "    }\n",
       "\n",
       "    .dataframe tbody tr th {\n",
       "        vertical-align: top;\n",
       "    }\n",
       "\n",
       "    .dataframe thead th {\n",
       "        text-align: right;\n",
       "    }\n",
       "</style>\n",
       "<table border=\"1\" class=\"dataframe\">\n",
       "  <thead>\n",
       "    <tr style=\"text-align: right;\">\n",
       "      <th></th>\n",
       "      <th>ANO</th>\n",
       "      <th>MES</th>\n",
       "      <th>SENADOR</th>\n",
       "      <th>TIPO_DESPESA</th>\n",
       "      <th>CNPJ_CPF</th>\n",
       "      <th>FORNECEDOR</th>\n",
       "      <th>DOCUMENTO</th>\n",
       "      <th>DATA</th>\n",
       "      <th>DETALHAMENTO</th>\n",
       "      <th>VALOR_REEMBOLSADO</th>\n",
       "      <th>COD_DOCUMENTO</th>\n",
       "    </tr>\n",
       "  </thead>\n",
       "  <tbody>\n",
       "    <tr>\n",
       "      <th>465</th>\n",
       "      <td>2021</td>\n",
       "      <td>1</td>\n",
       "      <td>5</td>\n",
       "      <td>Aluguel</td>\n",
       "      <td>89</td>\n",
       "      <td>90</td>\n",
       "      <td>MISSING</td>\n",
       "      <td>05/01/2021</td>\n",
       "      <td>MISSING</td>\n",
       "      <td>2347.37</td>\n",
       "      <td>2154179</td>\n",
       "    </tr>\n",
       "    <tr>\n",
       "      <th>466</th>\n",
       "      <td>2021</td>\n",
       "      <td>1</td>\n",
       "      <td>5</td>\n",
       "      <td>Aluguel</td>\n",
       "      <td>89</td>\n",
       "      <td>90</td>\n",
       "      <td>MISSING</td>\n",
       "      <td>11/01/2021</td>\n",
       "      <td>MISSING</td>\n",
       "      <td>5500</td>\n",
       "      <td>2154180</td>\n",
       "    </tr>\n",
       "  </tbody>\n",
       "</table>\n",
       "</div>"
      ],
      "text/plain": [
       "      ANO  MES  SENADOR TIPO_DESPESA  CNPJ_CPF  FORNECEDOR DOCUMENTO  \\\n",
       "465  2021    1        5      Aluguel        89          90   MISSING   \n",
       "466  2021    1        5      Aluguel        89          90   MISSING   \n",
       "\n",
       "           DATA DETALHAMENTO VALOR_REEMBOLSADO  COD_DOCUMENTO  \n",
       "465  05/01/2021      MISSING           2347.37        2154179  \n",
       "466  11/01/2021      MISSING              5500        2154180  "
      ]
     },
     "execution_count": 98,
     "metadata": {},
     "output_type": "execute_result"
    }
   ],
   "source": [
    "df.query('DOCUMENTO == \"MISSING\"').head(2)"
   ]
  },
  {
   "cell_type": "markdown",
   "metadata": {},
   "source": [
    "<br/>\n",
    "\n",
    "### Duplicate Values"
   ]
  },
  {
   "cell_type": "code",
   "execution_count": 99,
   "metadata": {},
   "outputs": [],
   "source": [
    "# duplicated()\n",
    "\n",
    "def check_quat_duplicated_data(df: pd.core.frame.DataFrame) -> None:\n",
    "    \"\"\"\n",
    "    Check if contains duplicated data\n",
    "    Mark duplicates as ``True`` if enough row equal\n",
    "    Except for the first occurrence.    \n",
    "    \"\"\"\n",
    "    duplicated = df.duplicated().sum()\n",
    "    total_lines = df.shape[0]\n",
    "    percentage = (duplicated/total_lines) * 100\n",
    "    \n",
    "    print(\"-\"*25, \"DUPLICATED DATA\", \"-\"*25,)\n",
    "    print(\"\\nSHAPE of data: {}\".format(df.shape[0]))\n",
    "    print(\"TOTAL duplicated data: {}\".format(duplicated))\n",
    "    print(\"PERCENTAGE duplicated data: {:3.2} %\".format(percentage)) "
   ]
  },
  {
   "cell_type": "code",
   "execution_count": 100,
   "metadata": {},
   "outputs": [
    {
     "name": "stdout",
     "output_type": "stream",
     "text": [
      "------------------------- DUPLICATED DATA -------------------------\n",
      "\n",
      "SHAPE of data: 15200\n",
      "TOTAL duplicated data: 0\n",
      "PERCENTAGE duplicated data: 0.0 %\n"
     ]
    }
   ],
   "source": [
    "check_quat_duplicated_data(df)"
   ]
  },
  {
   "cell_type": "code",
   "execution_count": 101,
   "metadata": {},
   "outputs": [
    {
     "data": {
      "text/html": [
       "<div>\n",
       "<style scoped>\n",
       "    .dataframe tbody tr th:only-of-type {\n",
       "        vertical-align: middle;\n",
       "    }\n",
       "\n",
       "    .dataframe tbody tr th {\n",
       "        vertical-align: top;\n",
       "    }\n",
       "\n",
       "    .dataframe thead th {\n",
       "        text-align: right;\n",
       "    }\n",
       "</style>\n",
       "<table border=\"1\" class=\"dataframe\">\n",
       "  <thead>\n",
       "    <tr style=\"text-align: right;\">\n",
       "      <th></th>\n",
       "      <th>ANO</th>\n",
       "      <th>MES</th>\n",
       "      <th>SENADOR</th>\n",
       "      <th>TIPO_DESPESA</th>\n",
       "      <th>CNPJ_CPF</th>\n",
       "      <th>FORNECEDOR</th>\n",
       "      <th>DOCUMENTO</th>\n",
       "      <th>DATA</th>\n",
       "      <th>DETALHAMENTO</th>\n",
       "      <th>VALOR_REEMBOLSADO</th>\n",
       "      <th>COD_DOCUMENTO</th>\n",
       "    </tr>\n",
       "  </thead>\n",
       "  <tbody>\n",
       "  </tbody>\n",
       "</table>\n",
       "</div>"
      ],
      "text/plain": [
       "Empty DataFrame\n",
       "Columns: [ANO, MES, SENADOR, TIPO_DESPESA, CNPJ_CPF, FORNECEDOR, DOCUMENTO, DATA, DETALHAMENTO, VALOR_REEMBOLSADO, COD_DOCUMENTO]\n",
       "Index: []"
      ]
     },
     "metadata": {},
     "output_type": "display_data"
    }
   ],
   "source": [
    "# Create dataframe only duplicated values\n",
    "df_duplicated_value = df[df.duplicated(keep=False)]\n",
    "\n",
    "display(df_duplicated_value.head())"
   ]
  },
  {
   "cell_type": "markdown",
   "metadata": {},
   "source": [
    "#### Handling Duplicated Values"
   ]
  },
  {
   "cell_type": "code",
   "execution_count": 102,
   "metadata": {},
   "outputs": [
    {
     "name": "stdout",
     "output_type": "stream",
     "text": [
      "Shape dataframe =  (15200, 11)\n"
     ]
    }
   ],
   "source": [
    "# drop_duplicates()\n",
    "\n",
    "df = df.drop_duplicates(keep='first')\n",
    "print(\"Shape dataframe = \", df.shape)"
   ]
  },
  {
   "cell_type": "markdown",
   "metadata": {},
   "source": [
    "<br/>\n",
    "\n",
    "### Irrelavant Data"
   ]
  },
  {
   "cell_type": "code",
   "execution_count": 103,
   "metadata": {},
   "outputs": [],
   "source": [
    "# I used the dictionary because they are more efficient in these cases\n",
    "# https://stackoverflow.com/questions/22084338/pandas-dataframe-performance\n",
    "\n",
    "def generate_cat_unique_by_col(df: pd.core.frame.DataFrame, *columns: list) -> dict:\n",
    "    dict_unique = {}\n",
    "    \n",
    "    for column in columns:\n",
    "        list_unique = df[column].unique().tolist()\n",
    "        dict_column = {}\n",
    "    \n",
    "        for element in list_unique:\n",
    "            if isinstance(element, float) is True:  # type nan is float\n",
    "                continue\n",
    "            dict_column[element] = int(list_unique.index(element))\n",
    "        # add dict column in principal dict \n",
    "        dict_unique[column] = dict_column          \n",
    "    \n",
    "    print(\"-\"*25, \"Dictionary with Values Map by Column\", \"-\"*25, end='\\n\\n')\n",
    "    return dict_unique"
   ]
  },
  {
   "cell_type": "markdown",
   "metadata": {},
   "source": [
    "<br/>\n",
    "\n",
    "### **Types Convert**\n",
    "- `VALOR_REEMBOLSADO` é do tipo object\n",
    "- `DATA` é do tipo object\n",
    "- `MES` pode ser menor\n",
    "- `ANO` não é necessário\n",
    "- `DATA` só importa o dia"
   ]
  },
  {
   "cell_type": "markdown",
   "metadata": {},
   "source": [
    "#### Handler column: `ANO` "
   ]
  },
  {
   "cell_type": "code",
   "execution_count": 104,
   "metadata": {},
   "outputs": [],
   "source": [
    "df = df.drop(columns='ANO')"
   ]
  },
  {
   "cell_type": "markdown",
   "metadata": {},
   "source": [
    "#### Types by Columns"
   ]
  },
  {
   "cell_type": "code",
   "execution_count": 105,
   "metadata": {
    "scrolled": true
   },
   "outputs": [],
   "source": [
    "df['MES'] = df['MES'].astype(dtype='int16', errors='raise')\n",
    "df['SENADOR'] = df['SENADOR'].astype(dtype='int16', errors='raise')\n",
    "\n",
    "df['TIPO_DESPESA'] = df['TIPO_DESPESA'].astype(dtype=str, errors='raise')\n",
    "df['CNPJ_CPF'] = df['CNPJ_CPF'].astype(dtype='int16', errors='raise')\n",
    "df['FORNECEDOR'] = df['FORNECEDOR'].astype(dtype='int16', errors='raise')\n",
    "df['DOCUMENTO'] = df['DOCUMENTO'].astype(dtype=str, errors='raise')\n",
    "df['DATA'] = pd.to_datetime(df['DATA'], errors='coerce')\n",
    "df['DETALHAMENTO'] = df['DETALHAMENTO'].astype(dtype=str, errors='raise')\n",
    "\n",
    "df['VALOR_REEMBOLSADO'] = pd.to_numeric(df['VALOR_REEMBOLSADO'])"
   ]
  },
  {
   "cell_type": "code",
   "execution_count": 106,
   "metadata": {},
   "outputs": [
    {
     "name": "stdout",
     "output_type": "stream",
     "text": [
      "<class 'pandas.core.frame.DataFrame'>\n",
      "Int64Index: 15200 entries, 0 to 15199\n",
      "Data columns (total 10 columns):\n",
      " #   Column             Non-Null Count  Dtype         \n",
      "---  ------             --------------  -----         \n",
      " 0   MES                15200 non-null  int16         \n",
      " 1   SENADOR            15200 non-null  int16         \n",
      " 2   TIPO_DESPESA       15200 non-null  object        \n",
      " 3   CNPJ_CPF           15200 non-null  int16         \n",
      " 4   FORNECEDOR         15200 non-null  int16         \n",
      " 5   DOCUMENTO          15200 non-null  object        \n",
      " 6   DATA               15199 non-null  datetime64[ns]\n",
      " 7   DETALHAMENTO       15200 non-null  object        \n",
      " 8   VALOR_REEMBOLSADO  15200 non-null  float64       \n",
      " 9   COD_DOCUMENTO      15200 non-null  int64         \n",
      "dtypes: datetime64[ns](1), float64(1), int16(4), int64(1), object(3)\n",
      "memory usage: 950.0+ KB\n"
     ]
    }
   ],
   "source": [
    "df.info()"
   ]
  },
  {
   "cell_type": "code",
   "execution_count": 107,
   "metadata": {},
   "outputs": [
    {
     "data": {
      "text/html": [
       "<div>\n",
       "<style scoped>\n",
       "    .dataframe tbody tr th:only-of-type {\n",
       "        vertical-align: middle;\n",
       "    }\n",
       "\n",
       "    .dataframe tbody tr th {\n",
       "        vertical-align: top;\n",
       "    }\n",
       "\n",
       "    .dataframe thead th {\n",
       "        text-align: right;\n",
       "    }\n",
       "</style>\n",
       "<table border=\"1\" class=\"dataframe\">\n",
       "  <thead>\n",
       "    <tr style=\"text-align: right;\">\n",
       "      <th></th>\n",
       "      <th>MES</th>\n",
       "      <th>SENADOR</th>\n",
       "      <th>TIPO_DESPESA</th>\n",
       "      <th>CNPJ_CPF</th>\n",
       "      <th>FORNECEDOR</th>\n",
       "      <th>DOCUMENTO</th>\n",
       "      <th>DATA</th>\n",
       "      <th>DETALHAMENTO</th>\n",
       "      <th>VALOR_REEMBOLSADO</th>\n",
       "      <th>COD_DOCUMENTO</th>\n",
       "    </tr>\n",
       "  </thead>\n",
       "  <tbody>\n",
       "    <tr>\n",
       "      <th>0</th>\n",
       "      <td>1</td>\n",
       "      <td>1</td>\n",
       "      <td>Aluguel</td>\n",
       "      <td>1795</td>\n",
       "      <td>529</td>\n",
       "      <td>023.489.627</td>\n",
       "      <td>2021-01-21</td>\n",
       "      <td>Pagamento de energia elétrica para uso do escr...</td>\n",
       "      <td>75.29</td>\n",
       "      <td>2158003</td>\n",
       "    </tr>\n",
       "  </tbody>\n",
       "</table>\n",
       "</div>"
      ],
      "text/plain": [
       "   MES  SENADOR TIPO_DESPESA  CNPJ_CPF  FORNECEDOR    DOCUMENTO       DATA  \\\n",
       "0    1        1      Aluguel      1795         529  023.489.627 2021-01-21   \n",
       "\n",
       "                                        DETALHAMENTO  VALOR_REEMBOLSADO  \\\n",
       "0  Pagamento de energia elétrica para uso do escr...              75.29   \n",
       "\n",
       "   COD_DOCUMENTO  \n",
       "0        2158003  "
      ]
     },
     "execution_count": 107,
     "metadata": {},
     "output_type": "execute_result"
    }
   ],
   "source": [
    "df.head(1)"
   ]
  },
  {
   "cell_type": "markdown",
   "metadata": {},
   "source": [
    "#### Handler column: `DATA`"
   ]
  },
  {
   "cell_type": "code",
   "execution_count": 108,
   "metadata": {
    "scrolled": true
   },
   "outputs": [],
   "source": [
    "df['DATA'] = df['DATA'].dt.strftime('%d')"
   ]
  },
  {
   "cell_type": "code",
   "execution_count": 109,
   "metadata": {
    "scrolled": true
   },
   "outputs": [],
   "source": [
    "df = df.rename(columns={'DATA': 'DIA'})"
   ]
  },
  {
   "cell_type": "markdown",
   "metadata": {},
   "source": [
    "- Errors"
   ]
  },
  {
   "cell_type": "code",
   "execution_count": 110,
   "metadata": {},
   "outputs": [
    {
     "data": {
      "text/plain": [
       "Int64Index([], dtype='int64')"
      ]
     },
     "metadata": {},
     "output_type": "display_data"
    }
   ],
   "source": [
    "dfb = df[df['DIA']=='NaT'].index\n",
    "display(dfb)"
   ]
  },
  {
   "cell_type": "code",
   "execution_count": 111,
   "metadata": {},
   "outputs": [],
   "source": [
    "def fill_date(df: pd.core.frame.DataFrame, column):\n",
    "    list_incosistence = df[df[column]=='NaT'].index\n",
    "\n",
    "    for index in list_incosistence:\n",
    "        df[column].loc[index] = 1"
   ]
  },
  {
   "cell_type": "code",
   "execution_count": 112,
   "metadata": {
    "scrolled": true
   },
   "outputs": [],
   "source": [
    "fill_date(df=df, column='DIA')"
   ]
  },
  {
   "cell_type": "code",
   "execution_count": 113,
   "metadata": {},
   "outputs": [
    {
     "data": {
      "text/html": [
       "<div>\n",
       "<style scoped>\n",
       "    .dataframe tbody tr th:only-of-type {\n",
       "        vertical-align: middle;\n",
       "    }\n",
       "\n",
       "    .dataframe tbody tr th {\n",
       "        vertical-align: top;\n",
       "    }\n",
       "\n",
       "    .dataframe thead th {\n",
       "        text-align: right;\n",
       "    }\n",
       "</style>\n",
       "<table border=\"1\" class=\"dataframe\">\n",
       "  <thead>\n",
       "    <tr style=\"text-align: right;\">\n",
       "      <th></th>\n",
       "      <th>MES</th>\n",
       "      <th>SENADOR</th>\n",
       "      <th>TIPO_DESPESA</th>\n",
       "      <th>CNPJ_CPF</th>\n",
       "      <th>FORNECEDOR</th>\n",
       "      <th>DOCUMENTO</th>\n",
       "      <th>DIA</th>\n",
       "      <th>DETALHAMENTO</th>\n",
       "      <th>VALOR_REEMBOLSADO</th>\n",
       "      <th>COD_DOCUMENTO</th>\n",
       "    </tr>\n",
       "  </thead>\n",
       "  <tbody>\n",
       "    <tr>\n",
       "      <th>0</th>\n",
       "      <td>1</td>\n",
       "      <td>1</td>\n",
       "      <td>Aluguel</td>\n",
       "      <td>1795</td>\n",
       "      <td>529</td>\n",
       "      <td>023.489.627</td>\n",
       "      <td>21</td>\n",
       "      <td>Pagamento de energia elétrica para uso do escr...</td>\n",
       "      <td>75.29</td>\n",
       "      <td>2158003</td>\n",
       "    </tr>\n",
       "  </tbody>\n",
       "</table>\n",
       "</div>"
      ],
      "text/plain": [
       "   MES  SENADOR TIPO_DESPESA  CNPJ_CPF  FORNECEDOR    DOCUMENTO DIA  \\\n",
       "0    1        1      Aluguel      1795         529  023.489.627  21   \n",
       "\n",
       "                                        DETALHAMENTO  VALOR_REEMBOLSADO  \\\n",
       "0  Pagamento de energia elétrica para uso do escr...              75.29   \n",
       "\n",
       "   COD_DOCUMENTO  \n",
       "0        2158003  "
      ]
     },
     "execution_count": 113,
     "metadata": {},
     "output_type": "execute_result"
    }
   ],
   "source": [
    "df.head(1)"
   ]
  },
  {
   "cell_type": "code",
   "execution_count": 114,
   "metadata": {
    "scrolled": true
   },
   "outputs": [],
   "source": [
    "# df['DIA'] = df['DIA'].astype(dtype='int16', errors='raise')"
   ]
  },
  {
   "cell_type": "code",
   "execution_count": 115,
   "metadata": {},
   "outputs": [
    {
     "data": {
      "text/plain": [
       "dtype('O')"
      ]
     },
     "execution_count": 115,
     "metadata": {},
     "output_type": "execute_result"
    }
   ],
   "source": [
    "df['DIA'].dtypes"
   ]
  },
  {
   "cell_type": "markdown",
   "metadata": {},
   "source": [
    "#### Order by: `SENADOR`,`MES`, `DIA`"
   ]
  },
  {
   "cell_type": "code",
   "execution_count": 116,
   "metadata": {
    "scrolled": true
   },
   "outputs": [
    {
     "name": "stdout",
     "output_type": "stream",
     "text": [
      "['ANO', 'MES', 'SENADOR', 'TIPO_DESPESA', 'CNPJ_CPF', 'FORNECEDOR', 'DOCUMENTO', 'DATA', 'DETALHAMENTO', 'VALOR_REEMBOLSADO', 'COD_DOCUMENTO']\n"
     ]
    }
   ],
   "source": [
    "print(list_columns)"
   ]
  },
  {
   "cell_type": "code",
   "execution_count": 117,
   "metadata": {},
   "outputs": [],
   "source": [
    "list_columns = ['DIA',\n",
    "                'MES',\n",
    "                'SENADOR',\n",
    "                'TIPO_DESPESA',\n",
    "                'CNPJ_CPF',\n",
    "                'FORNECEDOR',\n",
    "                'DOCUMENTO',\n",
    "                'DETALHAMENTO',\n",
    "                'VALOR_REEMBOLSADO']"
   ]
  },
  {
   "cell_type": "code",
   "execution_count": 118,
   "metadata": {},
   "outputs": [],
   "source": [
    "df = df[list_columns].sort_values(by=['SENADOR','MES', 'DIA'])"
   ]
  },
  {
   "cell_type": "code",
   "execution_count": 119,
   "metadata": {
    "scrolled": true
   },
   "outputs": [
    {
     "data": {
      "text/html": [
       "<div>\n",
       "<style scoped>\n",
       "    .dataframe tbody tr th:only-of-type {\n",
       "        vertical-align: middle;\n",
       "    }\n",
       "\n",
       "    .dataframe tbody tr th {\n",
       "        vertical-align: top;\n",
       "    }\n",
       "\n",
       "    .dataframe thead th {\n",
       "        text-align: right;\n",
       "    }\n",
       "</style>\n",
       "<table border=\"1\" class=\"dataframe\">\n",
       "  <thead>\n",
       "    <tr style=\"text-align: right;\">\n",
       "      <th></th>\n",
       "      <th>DIA</th>\n",
       "      <th>MES</th>\n",
       "      <th>SENADOR</th>\n",
       "      <th>TIPO_DESPESA</th>\n",
       "      <th>CNPJ_CPF</th>\n",
       "      <th>FORNECEDOR</th>\n",
       "      <th>DOCUMENTO</th>\n",
       "      <th>DETALHAMENTO</th>\n",
       "      <th>VALOR_REEMBOLSADO</th>\n",
       "    </tr>\n",
       "  </thead>\n",
       "  <tbody>\n",
       "    <tr>\n",
       "      <th>1</th>\n",
       "      <td>01</td>\n",
       "      <td>1</td>\n",
       "      <td>1</td>\n",
       "      <td>Aluguel</td>\n",
       "      <td>19</td>\n",
       "      <td>19</td>\n",
       "      <td>01/2021</td>\n",
       "      <td>Despesa com pagamento de aluguel de imóvel par...</td>\n",
       "      <td>1000.00</td>\n",
       "    </tr>\n",
       "    <tr>\n",
       "      <th>2</th>\n",
       "      <td>01</td>\n",
       "      <td>1</td>\n",
       "      <td>1</td>\n",
       "      <td>Aluguel</td>\n",
       "      <td>22</td>\n",
       "      <td>22</td>\n",
       "      <td>001/21</td>\n",
       "      <td>Despesa com aluguel de imóvel para uso do escr...</td>\n",
       "      <td>6000.00</td>\n",
       "    </tr>\n",
       "    <tr>\n",
       "      <th>4</th>\n",
       "      <td>01</td>\n",
       "      <td>1</td>\n",
       "      <td>1</td>\n",
       "      <td>Divulgação</td>\n",
       "      <td>23</td>\n",
       "      <td>23</td>\n",
       "      <td>44</td>\n",
       "      <td>Divulgação da atividade parlamentar</td>\n",
       "      <td>6000.00</td>\n",
       "    </tr>\n",
       "    <tr>\n",
       "      <th>0</th>\n",
       "      <td>21</td>\n",
       "      <td>1</td>\n",
       "      <td>1</td>\n",
       "      <td>Aluguel</td>\n",
       "      <td>1795</td>\n",
       "      <td>529</td>\n",
       "      <td>023.489.627</td>\n",
       "      <td>Pagamento de energia elétrica para uso do escr...</td>\n",
       "      <td>75.29</td>\n",
       "    </tr>\n",
       "    <tr>\n",
       "      <th>5</th>\n",
       "      <td>21</td>\n",
       "      <td>1</td>\n",
       "      <td>1</td>\n",
       "      <td>Passagens</td>\n",
       "      <td>22</td>\n",
       "      <td>22</td>\n",
       "      <td>VVEWKR</td>\n",
       "      <td>Companhia Aérea: LATAM, Localizador: VVEWKR. P...</td>\n",
       "      <td>1486.46</td>\n",
       "    </tr>\n",
       "    <tr>\n",
       "      <th>3</th>\n",
       "      <td>25</td>\n",
       "      <td>1</td>\n",
       "      <td>1</td>\n",
       "      <td>Divulgação</td>\n",
       "      <td>22</td>\n",
       "      <td>22</td>\n",
       "      <td>10</td>\n",
       "      <td>Divulgação da atividade parlamentar</td>\n",
       "      <td>1500.00</td>\n",
       "    </tr>\n",
       "    <tr>\n",
       "      <th>6</th>\n",
       "      <td>27</td>\n",
       "      <td>1</td>\n",
       "      <td>1</td>\n",
       "      <td>Passagens</td>\n",
       "      <td>22</td>\n",
       "      <td>22</td>\n",
       "      <td>FYJJRL</td>\n",
       "      <td>Companhia Aérea: AZUL, Localizador: FYJJRL. Pa...</td>\n",
       "      <td>1890.00</td>\n",
       "    </tr>\n",
       "    <tr>\n",
       "      <th>9</th>\n",
       "      <td>02</td>\n",
       "      <td>2</td>\n",
       "      <td>1</td>\n",
       "      <td>Aluguel</td>\n",
       "      <td>19</td>\n",
       "      <td>19</td>\n",
       "      <td>02/2021</td>\n",
       "      <td>Despesa com aluguel de imóvel para uso do escr...</td>\n",
       "      <td>1000.00</td>\n",
       "    </tr>\n",
       "    <tr>\n",
       "      <th>10</th>\n",
       "      <td>02</td>\n",
       "      <td>2</td>\n",
       "      <td>1</td>\n",
       "      <td>Aluguel</td>\n",
       "      <td>22</td>\n",
       "      <td>22</td>\n",
       "      <td>002/21</td>\n",
       "      <td>Despesa com pagamento de aluguel de imóvel par...</td>\n",
       "      <td>6000.00</td>\n",
       "    </tr>\n",
       "    <tr>\n",
       "      <th>12</th>\n",
       "      <td>02</td>\n",
       "      <td>2</td>\n",
       "      <td>1</td>\n",
       "      <td>Divulgação</td>\n",
       "      <td>22</td>\n",
       "      <td>22</td>\n",
       "      <td>202100000000014</td>\n",
       "      <td>Despesa com divulgação da atividade parlamenta...</td>\n",
       "      <td>1500.00</td>\n",
       "    </tr>\n",
       "    <tr>\n",
       "      <th>13</th>\n",
       "      <td>02</td>\n",
       "      <td>2</td>\n",
       "      <td>1</td>\n",
       "      <td>Divulgação</td>\n",
       "      <td>23</td>\n",
       "      <td>23</td>\n",
       "      <td>47</td>\n",
       "      <td>Produção de textos e edição de vídeos para div...</td>\n",
       "      <td>6000.00</td>\n",
       "    </tr>\n",
       "    <tr>\n",
       "      <th>14</th>\n",
       "      <td>02</td>\n",
       "      <td>2</td>\n",
       "      <td>1</td>\n",
       "      <td>Locomoção, hospedagem e alimentação</td>\n",
       "      <td>13</td>\n",
       "      <td>13</td>\n",
       "      <td>000006400</td>\n",
       "      <td>Despesa com combustível para abastecimento de ...</td>\n",
       "      <td>2868.19</td>\n",
       "    </tr>\n",
       "    <tr>\n",
       "      <th>15</th>\n",
       "      <td>02</td>\n",
       "      <td>2</td>\n",
       "      <td>1</td>\n",
       "      <td>Locomoção, hospedagem e alimentação</td>\n",
       "      <td>1822</td>\n",
       "      <td>22</td>\n",
       "      <td>000.011.347</td>\n",
       "      <td>Despesa com aquisição de combustível para abas...</td>\n",
       "      <td>1653.60</td>\n",
       "    </tr>\n",
       "    <tr>\n",
       "      <th>16</th>\n",
       "      <td>02</td>\n",
       "      <td>2</td>\n",
       "      <td>1</td>\n",
       "      <td>Passagens</td>\n",
       "      <td>22</td>\n",
       "      <td>22</td>\n",
       "      <td>KXNXXK</td>\n",
       "      <td>Companhia Aérea: LATAM, Localizador: KXNXXK. P...</td>\n",
       "      <td>1732.44</td>\n",
       "    </tr>\n",
       "    <tr>\n",
       "      <th>17</th>\n",
       "      <td>18</td>\n",
       "      <td>2</td>\n",
       "      <td>1</td>\n",
       "      <td>Passagens</td>\n",
       "      <td>22</td>\n",
       "      <td>22</td>\n",
       "      <td>YMVM5U</td>\n",
       "      <td>Companhia Aérea: AZUL, Localizador: YMVM5U. Pa...</td>\n",
       "      <td>2720.00</td>\n",
       "    </tr>\n",
       "  </tbody>\n",
       "</table>\n",
       "</div>"
      ],
      "text/plain": [
       "   DIA  MES  SENADOR                         TIPO_DESPESA  CNPJ_CPF  \\\n",
       "1   01    1        1                              Aluguel        19   \n",
       "2   01    1        1                              Aluguel        22   \n",
       "4   01    1        1                           Divulgação        23   \n",
       "0   21    1        1                              Aluguel      1795   \n",
       "5   21    1        1                            Passagens        22   \n",
       "3   25    1        1                           Divulgação        22   \n",
       "6   27    1        1                            Passagens        22   \n",
       "9   02    2        1                              Aluguel        19   \n",
       "10  02    2        1                              Aluguel        22   \n",
       "12  02    2        1                           Divulgação        22   \n",
       "13  02    2        1                           Divulgação        23   \n",
       "14  02    2        1  Locomoção, hospedagem e alimentação        13   \n",
       "15  02    2        1  Locomoção, hospedagem e alimentação      1822   \n",
       "16  02    2        1                            Passagens        22   \n",
       "17  18    2        1                            Passagens        22   \n",
       "\n",
       "    FORNECEDOR        DOCUMENTO  \\\n",
       "1           19          01/2021   \n",
       "2           22           001/21   \n",
       "4           23               44   \n",
       "0          529      023.489.627   \n",
       "5           22           VVEWKR   \n",
       "3           22               10   \n",
       "6           22           FYJJRL   \n",
       "9           19          02/2021   \n",
       "10          22           002/21   \n",
       "12          22  202100000000014   \n",
       "13          23               47   \n",
       "14          13        000006400   \n",
       "15          22      000.011.347   \n",
       "16          22           KXNXXK   \n",
       "17          22           YMVM5U   \n",
       "\n",
       "                                         DETALHAMENTO  VALOR_REEMBOLSADO  \n",
       "1   Despesa com pagamento de aluguel de imóvel par...            1000.00  \n",
       "2   Despesa com aluguel de imóvel para uso do escr...            6000.00  \n",
       "4                 Divulgação da atividade parlamentar            6000.00  \n",
       "0   Pagamento de energia elétrica para uso do escr...              75.29  \n",
       "5   Companhia Aérea: LATAM, Localizador: VVEWKR. P...            1486.46  \n",
       "3                 Divulgação da atividade parlamentar            1500.00  \n",
       "6   Companhia Aérea: AZUL, Localizador: FYJJRL. Pa...            1890.00  \n",
       "9   Despesa com aluguel de imóvel para uso do escr...            1000.00  \n",
       "10  Despesa com pagamento de aluguel de imóvel par...            6000.00  \n",
       "12  Despesa com divulgação da atividade parlamenta...            1500.00  \n",
       "13  Produção de textos e edição de vídeos para div...            6000.00  \n",
       "14  Despesa com combustível para abastecimento de ...            2868.19  \n",
       "15  Despesa com aquisição de combustível para abas...            1653.60  \n",
       "16  Companhia Aérea: LATAM, Localizador: KXNXXK. P...            1732.44  \n",
       "17  Companhia Aérea: AZUL, Localizador: YMVM5U. Pa...            2720.00  "
      ]
     },
     "execution_count": 119,
     "metadata": {},
     "output_type": "execute_result"
    }
   ],
   "source": [
    "df.head(15)"
   ]
  },
  {
   "cell_type": "code",
   "execution_count": 120,
   "metadata": {},
   "outputs": [
    {
     "name": "stdout",
     "output_type": "stream",
     "text": [
      "<class 'pandas.core.frame.DataFrame'>\n",
      "Int64Index: 15200 entries, 1 to 15179\n",
      "Data columns (total 9 columns):\n",
      " #   Column             Non-Null Count  Dtype  \n",
      "---  ------             --------------  -----  \n",
      " 0   DIA                15199 non-null  object \n",
      " 1   MES                15200 non-null  int16  \n",
      " 2   SENADOR            15200 non-null  int16  \n",
      " 3   TIPO_DESPESA       15200 non-null  object \n",
      " 4   CNPJ_CPF           15200 non-null  int16  \n",
      " 5   FORNECEDOR         15200 non-null  int16  \n",
      " 6   DOCUMENTO          15200 non-null  object \n",
      " 7   DETALHAMENTO       15200 non-null  object \n",
      " 8   VALOR_REEMBOLSADO  15200 non-null  float64\n",
      "dtypes: float64(1), int16(4), object(4)\n",
      "memory usage: 831.2+ KB\n"
     ]
    }
   ],
   "source": [
    "df.info()"
   ]
  },
  {
   "cell_type": "markdown",
   "metadata": {},
   "source": [
    "#### Update Columns"
   ]
  },
  {
   "cell_type": "code",
   "execution_count": 121,
   "metadata": {},
   "outputs": [],
   "source": [
    "list_numerical_col = get_col(df=df,\n",
    "                             type_descr=np.number)\n",
    "list_categorical_col = get_col(df=df,\n",
    "                               type_descr=np.object)\n",
    "list_columns = get_col(df=df,\n",
    "                       type_descr=[np.object, np.number])"
   ]
  },
  {
   "cell_type": "markdown",
   "metadata": {},
   "source": [
    "**NOTE**\n",
    "<br/>\n",
    "Parece fazer sentido estes valores. Então se dará por concluido a parte de _data cleaning and data analisys_."
   ]
  },
  {
   "cell_type": "markdown",
   "metadata": {},
   "source": [
    "---\n",
    "\n",
    "## **Save Clean Data**"
   ]
  },
  {
   "cell_type": "code",
   "execution_count": 122,
   "metadata": {
    "scrolled": true
   },
   "outputs": [
    {
     "data": {
      "text/html": [
       "<div>\n",
       "<style scoped>\n",
       "    .dataframe tbody tr th:only-of-type {\n",
       "        vertical-align: middle;\n",
       "    }\n",
       "\n",
       "    .dataframe tbody tr th {\n",
       "        vertical-align: top;\n",
       "    }\n",
       "\n",
       "    .dataframe thead th {\n",
       "        text-align: right;\n",
       "    }\n",
       "</style>\n",
       "<table border=\"1\" class=\"dataframe\">\n",
       "  <thead>\n",
       "    <tr style=\"text-align: right;\">\n",
       "      <th></th>\n",
       "      <th>0</th>\n",
       "    </tr>\n",
       "  </thead>\n",
       "  <tbody>\n",
       "    <tr>\n",
       "      <th>senador_name</th>\n",
       "      <td>number</td>\n",
       "    </tr>\n",
       "    <tr>\n",
       "      <th>ACIR GURGACZ</th>\n",
       "      <td>1</td>\n",
       "    </tr>\n",
       "    <tr>\n",
       "      <th>ALESSANDRO VIEIRA</th>\n",
       "      <td>2</td>\n",
       "    </tr>\n",
       "    <tr>\n",
       "      <th>ALVARO DIAS</th>\n",
       "      <td>3</td>\n",
       "    </tr>\n",
       "    <tr>\n",
       "      <th>ANGELO CORONEL</th>\n",
       "      <td>4</td>\n",
       "    </tr>\n",
       "  </tbody>\n",
       "</table>\n",
       "</div>"
      ],
      "text/plain": [
       "                        0\n",
       "senador_name       number\n",
       "ACIR GURGACZ            1\n",
       "ALESSANDRO VIEIRA       2\n",
       "ALVARO DIAS             3\n",
       "ANGELO CORONEL          4"
      ]
     },
     "execution_count": 122,
     "metadata": {},
     "output_type": "execute_result"
    }
   ],
   "source": [
    "df_map_senadores = pd.DataFrame.from_dict(dict_map_senadores, orient='index')\n",
    "df_map_senadores.head()"
   ]
  },
  {
   "cell_type": "code",
   "execution_count": 123,
   "metadata": {
    "scrolled": true
   },
   "outputs": [],
   "source": [
    "df_map_senadores = df_map_senadores.reset_index()\n",
    "df_map_senadores = df_map_senadores.rename(columns={'index': 'senador_name'})"
   ]
  },
  {
   "cell_type": "code",
   "execution_count": 124,
   "metadata": {
    "scrolled": true
   },
   "outputs": [],
   "source": [
    "df_map_senadores = df_map_senadores.drop(index=0)"
   ]
  },
  {
   "cell_type": "code",
   "execution_count": 125,
   "metadata": {},
   "outputs": [
    {
     "data": {
      "text/html": [
       "<div>\n",
       "<style scoped>\n",
       "    .dataframe tbody tr th:only-of-type {\n",
       "        vertical-align: middle;\n",
       "    }\n",
       "\n",
       "    .dataframe tbody tr th {\n",
       "        vertical-align: top;\n",
       "    }\n",
       "\n",
       "    .dataframe thead th {\n",
       "        text-align: right;\n",
       "    }\n",
       "</style>\n",
       "<table border=\"1\" class=\"dataframe\">\n",
       "  <thead>\n",
       "    <tr style=\"text-align: right;\">\n",
       "      <th></th>\n",
       "      <th>senador_name</th>\n",
       "      <th>0</th>\n",
       "    </tr>\n",
       "  </thead>\n",
       "  <tbody>\n",
       "    <tr>\n",
       "      <th>1</th>\n",
       "      <td>ACIR GURGACZ</td>\n",
       "      <td>1</td>\n",
       "    </tr>\n",
       "    <tr>\n",
       "      <th>2</th>\n",
       "      <td>ALESSANDRO VIEIRA</td>\n",
       "      <td>2</td>\n",
       "    </tr>\n",
       "    <tr>\n",
       "      <th>3</th>\n",
       "      <td>ALVARO DIAS</td>\n",
       "      <td>3</td>\n",
       "    </tr>\n",
       "    <tr>\n",
       "      <th>4</th>\n",
       "      <td>ANGELO CORONEL</td>\n",
       "      <td>4</td>\n",
       "    </tr>\n",
       "    <tr>\n",
       "      <th>5</th>\n",
       "      <td>ANTONIO ANASTASIA</td>\n",
       "      <td>5</td>\n",
       "    </tr>\n",
       "  </tbody>\n",
       "</table>\n",
       "</div>"
      ],
      "text/plain": [
       "        senador_name  0\n",
       "1       ACIR GURGACZ  1\n",
       "2  ALESSANDRO VIEIRA  2\n",
       "3        ALVARO DIAS  3\n",
       "4     ANGELO CORONEL  4\n",
       "5  ANTONIO ANASTASIA  5"
      ]
     },
     "execution_count": 125,
     "metadata": {},
     "output_type": "execute_result"
    }
   ],
   "source": [
    "df_map_senadores.head()"
   ]
  },
  {
   "cell_type": "code",
   "execution_count": 126,
   "metadata": {},
   "outputs": [],
   "source": [
    "def save_data_clenning(df: pd.core.frame.DataFrame,\n",
    "                       path: str = 'data/cleansing/') -> None:\n",
    "    df.to_csv(path_or_buf = path,\n",
    "              sep = ',',\n",
    "              index = False,\n",
    "              encoding = 'utf8')\n",
    "    \n",
    "    return \"saved data!\""
   ]
  },
  {
   "cell_type": "code",
   "execution_count": 127,
   "metadata": {},
   "outputs": [
    {
     "data": {
      "text/plain": [
       "'saved data!'"
      ]
     },
     "execution_count": 127,
     "metadata": {},
     "output_type": "execute_result"
    }
   ],
   "source": [
    "save_data_clenning(df = df,\n",
    "                   path = 'data/cleansing/dados_limpos_ceaps_cleansing.csv')"
   ]
  },
  {
   "cell_type": "code",
   "execution_count": 128,
   "metadata": {},
   "outputs": [
    {
     "data": {
      "text/plain": [
       "'saved data!'"
      ]
     },
     "execution_count": 128,
     "metadata": {},
     "output_type": "execute_result"
    }
   ],
   "source": [
    "save_data_clenning(df = df_map_senadores,\n",
    "                   path = 'data/cleansing/map_senadores.csv')"
   ]
  },
  {
   "cell_type": "markdown",
   "metadata": {},
   "source": [
    "---"
   ]
  }
 ],
 "metadata": {
  "kernelspec": {
   "display_name": "Python 3 (ipykernel)",
   "language": "python",
   "name": "python3"
  },
  "language_info": {
   "codemirror_mode": {
    "name": "ipython",
    "version": 3
   },
   "file_extension": ".py",
   "mimetype": "text/x-python",
   "name": "python",
   "nbconvert_exporter": "python",
   "pygments_lexer": "ipython3",
   "version": "3.8.10"
  },
  "latex_envs": {
   "LaTeX_envs_menu_present": true,
   "autoclose": false,
   "autocomplete": true,
   "bibliofile": "biblio.bib",
   "cite_by": "apalike",
   "current_citInitial": 1,
   "eqLabelWithNumbers": true,
   "eqNumInitial": 1,
   "hotkeys": {
    "equation": "Ctrl-E",
    "itemize": "Ctrl-I"
   },
   "labels_anchors": false,
   "latex_user_defs": false,
   "report_style_numbering": false,
   "user_envs_cfg": false
  },
  "toc": {
   "base_numbering": 1,
   "nav_menu": {},
   "number_sections": false,
   "sideBar": false,
   "skip_h1_title": false,
   "title_cell": "Table of Contents",
   "title_sidebar": "Contents",
   "toc_cell": false,
   "toc_position": {},
   "toc_section_display": false,
   "toc_window_display": false
  }
 },
 "nbformat": 4,
 "nbformat_minor": 4
}
