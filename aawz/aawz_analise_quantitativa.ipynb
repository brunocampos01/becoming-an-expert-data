{
 "cells": [
  {
   "cell_type": "markdown",
   "metadata": {},
   "source": [
    "# Desafio AAWZ\n",
    "\n",
    "### Título\n",
    "Desenvolver uma análise quantitativa e gráfica relacionando o aumento das ações da\n",
    "Petrobrás (PETR4) com as variações da taxa SELIC para os últimos 10 anos.\n",
    "\n",
    "### Objetivo\n",
    "- Fazer um programa em python para:\n",
    "    - Extrair as informações dos sites: https://www.infomoney.com.br/petrobras-petr4/cotacoes\n",
    "     e https://www.bcb.gov.br/pec/copom/port/taxaselic.asp e tratá-las;\n",
    "    - Armazenar as informações tratadas no SQLit;\n",
    "     - Utilizar, de preferência, ORM (object relational mapping)\n",
    "    - Ler as informações do banco e apresentar em formato gráfico.\n",
    "\n",
    "### Restrições\n",
    "- Utilizar a biblioteca pandas do Python"
   ]
  },
  {
   "cell_type": "markdown",
   "metadata": {},
   "source": [
    "---\n",
    "\n",
    "## Scrapy\n",
    "\n",
    "A granularidade será mensal"
   ]
  },
  {
   "cell_type": "code",
   "execution_count": 84,
   "metadata": {},
   "outputs": [
    {
     "name": "stdout",
     "output_type": "stream",
     "text": [
      "<class 'bs4.BeautifulSoup'>\n"
     ]
    }
   ],
   "source": [
    "from urllib.request import urlopen\n",
    "from bs4 import BeautifulSoup\n",
    "\n",
    "html = urlopen('https://www.infomoney.com.br/petrobras-petr4/cotacoes')\n",
    "\n",
    "# criacao do parser\n",
    "soup = BeautifulSoup(html, 'html.parser')\n",
    "print(type(soup))"
   ]
  },
  {
   "cell_type": "code",
   "execution_count": 89,
   "metadata": {},
   "outputs": [
    {
     "name": "stdout",
     "output_type": "stream",
     "text": [
      "<class 'bs4.element.ResultSet'>\n"
     ]
    },
    {
     "data": {
      "text/plain": [
       "<Response [200]>"
      ]
     },
     "execution_count": 89,
     "metadata": {},
     "output_type": "execute_result"
    }
   ],
   "source": [
    "table = soup.find_all('table')\n",
    "print(type(data_containers))\n",
    "\n",
    "response"
   ]
  },
  {
   "cell_type": "code",
   "execution_count": 110,
   "metadata": {
    "scrolled": true
   },
   "outputs": [
    {
     "name": "stdout",
     "output_type": "stream",
     "text": [
      "[<Element html at 0x7f1329333b88>]\n"
     ]
    }
   ],
   "source": [
    "import lxml.etree\n",
    "import lxml.html\n",
    "import requests\n",
    "\n",
    "html = requests.get(\"https://www.infomoney.com.br/petrobras-petr4/cotacoes\")\n",
    "root = lxml.html.fromstring(html.content)\n",
    "title = root.xpath('//html') \n",
    "print(title)"
   ]
  },
  {
   "cell_type": "code",
   "execution_count": 116,
   "metadata": {},
   "outputs": [
    {
     "data": {
      "text/plain": [
       "['Crazy Machines VR',\n",
       " 'Party Hard 2',\n",
       " 'Lethal League Blaze',\n",
       " 'The Colonists',\n",
       " 'Do Not Feed the Monkeys',\n",
       " 'Cities: Skylines - Industries',\n",
       " 'Cities: Skylines - Industries',\n",
       " 'Star Shelter',\n",
       " 'Megadimension Neptunia VIIR | 新次元ゲイム ネプテューヌＶⅡＲ | 新次元遊戲 戰機少女ＶⅡＲ',\n",
       " 'EXAPUNKS',\n",
       " 'SOULCALIBUR VI',\n",
       " 'Return of the Obra Dinn',\n",
       " 'Reigns: Game of Thrones',\n",
       " 'Accounting+',\n",
       " 'Kingdom Rush Origins',\n",
       " 'RimWorld',\n",
       " 'The Jackbox Party Pack 5',\n",
       " 'RESONANCE OF FATE™/END OF ETERNITY™ 4K/HD EDITION',\n",
       " 'LEGO® DC Super-Villains',\n",
       " 'LEGO® DC Super-Villains',\n",
       " 'Farm Together',\n",
       " \"Assassin's Creed® Odyssey\",\n",
       " 'MapleStory 2',\n",
       " 'Mega Man 11 / ロックマン11 運命の歯車!!',\n",
       " 'Deliver Us The Moon: Fortuna',\n",
       " 'Valkyria Chronicles 4',\n",
       " 'Jet Island',\n",
       " 'CrossCode',\n",
       " 'Cube Escape: Paradox',\n",
       " '60 Parsecs!',\n",
       " 'Scythe: Digital Edition',\n",
       " 'DRAGON QUEST® XI: Echoes of an Elusive Age™ - Digital Edition of Light',\n",
       " 'Two Point Hospital',\n",
       " 'F1 2018',\n",
       " 'Coloring Pixels',\n",
       " 'Dustwind']"
      ]
     },
     "execution_count": 116,
     "metadata": {},
     "output_type": "execute_result"
    }
   ],
   "source": [
    "html = requests.get('https://store.steampowered.com/explore/new/')\n",
    "doc = lxml.html.fromstring(html.content)\n",
    "titles = new_releases.xpath('.//div[@class=\"tab_item_name\"]/text()')\n",
    "titles"
   ]
  },
  {
   "cell_type": "code",
   "execution_count": 75,
   "metadata": {},
   "outputs": [
    {
     "data": {
      "text/html": [
       "<b>Rendered HTML</b>"
      ],
      "text/plain": [
       "<IPython.core.display.HTML object>"
      ]
     },
     "execution_count": 75,
     "metadata": {},
     "output_type": "execute_result"
    }
   ],
   "source": [
    "from IPython.core.display import HTML\n",
    "HTML(\"<b>Rendered HTML</b>\")"
   ]
  },
  {
   "cell_type": "code",
   "execution_count": null,
   "metadata": {},
   "outputs": [],
   "source": [
    "response = requests.get(\"https://www.moneycontrol.com/india/stockpricequote/auto-2-3-wheelers/heromotocorp/HHM\", timeout=240)\n",
    "page_content = BeautifulSoup(response.content, \"html.parser\")\n",
    "HTML(str(page_content.find(\"h1\")))"
   ]
  }
 ],
 "metadata": {
  "kernelspec": {
   "display_name": "Python 3",
   "language": "python",
   "name": "python3"
  },
  "language_info": {
   "codemirror_mode": {
    "name": "ipython",
    "version": 3
   },
   "file_extension": ".py",
   "mimetype": "text/x-python",
   "name": "python",
   "nbconvert_exporter": "python",
   "pygments_lexer": "ipython3",
   "version": "3.6.5"
  },
  "latex_envs": {
   "LaTeX_envs_menu_present": true,
   "autoclose": false,
   "autocomplete": true,
   "bibliofile": "biblio.bib",
   "cite_by": "apalike",
   "current_citInitial": 1,
   "eqLabelWithNumbers": true,
   "eqNumInitial": 1,
   "hotkeys": {
    "equation": "Ctrl-E",
    "itemize": "Ctrl-I"
   },
   "labels_anchors": false,
   "latex_user_defs": false,
   "report_style_numbering": false,
   "user_envs_cfg": false
  }
 },
 "nbformat": 4,
 "nbformat_minor": 2
}
