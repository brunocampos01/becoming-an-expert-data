{
 "cells": [
  {
   "cell_type": "markdown",
   "metadata": {},
   "source": [
    "## Título\n",
    "Desenvolver uma análise quantitativa e gráfica relacionando o aumento das ações da\n",
    "Petrobrás (PETR4) com as variações da taxa SELIC para os últimos 10 anos.\n",
    "\n",
    "## Objetivo\n",
    "Fazer um programa em python para:\n",
    "- Extrair as informações dos sites: https://www.infomoney.com.br/petrobras-petr4/cotacoes e \n",
    "https://www.bcb.gov.br/pec/copom/port/taxaselic.asp e tratá-las;\n",
    "- Armazenar as informações tratadas no SQLite;\n",
    "  - Utilizar, de preferência, ORM (object relational mapping)\n",
    "- Ler as informações do banco e apresentar em formato gráfico.\n",
    "\n",
    "## Restrições\n",
    "- Utilizar a biblioteca pandas do Python"
   ]
  },
  {
   "cell_type": "markdown",
   "metadata": {},
   "source": [
    "---\n",
    "\n",
    "## ETL\n",
    "- Vou utilizar a granularidade mensal para a análise.\n",
    "- Será feito 2 scrapping. Para garantir um serviço menos monolítico farei cada scrapping separado. Desta forma é possível garantir uma melhor manutenção de código."
   ]
  },
  {
   "cell_type": "code",
   "execution_count": 7,
   "metadata": {
    "scrolled": false
   },
   "outputs": [
    {
     "name": "stdout",
     "output_type": "stream",
     "text": [
      "<class 'pandas.core.frame.DataFrame'>\n",
      "Int64Index: 4963 entries, 0 to 0\n",
      "Data columns (total 3 columns):\n",
      "Ano           4963 non-null int16\n",
      "Mes           4963 non-null int8\n",
      "Fechamento    4962 non-null float32\n",
      "dtypes: float32(1), int16(1), int8(1)\n",
      "memory usage: 72.7 KB\n",
      "None \n",
      "\n",
      "(df_petr4.csv) salvo!\n"
     ]
    }
   ],
   "source": [
    "! python3 etl_PETR4.py"
   ]
  },
  {
   "cell_type": "code",
   "execution_count": 8,
   "metadata": {},
   "outputs": [
    {
     "name": "stdout",
     "output_type": "stream",
     "text": [
      "python3: can't open file 'etl_SELIC.py': [Errno 2] No such file or directory\r\n"
     ]
    }
   ],
   "source": [
    "! python3 etl_SELIC.py"
   ]
  },
  {
   "cell_type": "markdown",
   "metadata": {},
   "source": [
    "### Load"
   ]
  },
  {
   "cell_type": "code",
   "execution_count": null,
   "metadata": {},
   "outputs": [],
   "source": []
  }
 ],
 "metadata": {
  "kernelspec": {
   "display_name": "Python 3",
   "language": "python",
   "name": "python3"
  },
  "language_info": {
   "codemirror_mode": {
    "name": "ipython",
    "version": 3
   },
   "file_extension": ".py",
   "mimetype": "text/x-python",
   "name": "python",
   "nbconvert_exporter": "python",
   "pygments_lexer": "ipython3",
   "version": "3.6.5"
  },
  "latex_envs": {
   "LaTeX_envs_menu_present": true,
   "autoclose": false,
   "autocomplete": true,
   "bibliofile": "biblio.bib",
   "cite_by": "apalike",
   "current_citInitial": 1,
   "eqLabelWithNumbers": true,
   "eqNumInitial": 1,
   "hotkeys": {
    "equation": "Ctrl-E",
    "itemize": "Ctrl-I"
   },
   "labels_anchors": false,
   "latex_user_defs": false,
   "report_style_numbering": false,
   "user_envs_cfg": false
  }
 },
 "nbformat": 4,
 "nbformat_minor": 2
}
