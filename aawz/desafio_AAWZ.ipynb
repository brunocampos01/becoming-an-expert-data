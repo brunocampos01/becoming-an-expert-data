{
 "cells": [
  {
   "cell_type": "markdown",
   "metadata": {},
   "source": [
    "# Desafio AAWZ\n",
    "\n",
    "## Título\n",
    "Desenvolver uma análise quantitativa e gráfica relacionando o aumento das ações da\n",
    "Petrobrás (PETR4) com as variações da taxa SELIC para os últimos 10 anos.\n",
    "\n",
    "## Objetivo\n",
    "Fazer um programa em python para:\n",
    "- Extrair as informações dos sites: https://www.infomoney.com.br/petrobras-petr4/cotacoes e \n",
    "https://www.bcb.gov.br/pec/copom/port/taxaselic.asp e tratá-las;\n",
    "- Armazenar as informações tratadas no SQLite;\n",
    "  - Utilizar, de preferência, ORM (object relational mapping)\n",
    "- Ler as informações do banco e apresentar em formato gráfico.\n",
    "\n",
    "## Restrições\n",
    "- Utilizar a biblioteca pandas do Python"
   ]
  },
  {
   "cell_type": "markdown",
   "metadata": {},
   "source": [
    "---\n",
    "\n",
    "## ETL\n",
    "- Vou utilizar a granularidade mensal para a análise.\n",
    "- Será feito 2 scrapping. Para garantir um serviço menos monolítico farei cada scrapping separado. Desta forma é possível garantir uma melhor manutenção de código."
   ]
  },
  {
   "cell_type": "code",
   "execution_count": null,
   "metadata": {
    "scrolled": true
   },
   "outputs": [
    {
     "name": "stdout",
     "output_type": "stream",
     "text": [
      "get page:  <Response [200]>\r\n"
     ]
    }
   ],
   "source": [
    "! python3 etl_PETR4.py"
   ]
  },
  {
   "cell_type": "code",
   "execution_count": null,
   "metadata": {},
   "outputs": [],
   "source": [
    "! python3 etl_SELIC.py"
   ]
  },
  {
   "cell_type": "markdown",
   "metadata": {},
   "source": [
    "#### Granularidade anual: \n",
    "- Tanto a taxa selic quanto a PETR4 devem ser de mesma granularidade\n",
    "- Nível do grão = ano\n",
    "- Isso garante insights mais fáceis entre os dados\n",
    "\n",
    "#### Banco de dados\n",
    "- Os 2 banco de dados armazenam somente os dados de fechamento.\n",
    "- Acredito que assim trás uma análise mais fundamentalista sobre índices e ativos financeiros.\n",
    "- Fiz algumas conversões de tipo para armazenar a menor quantidade possível de dados. "
   ]
  },
  {
   "cell_type": "markdown",
   "metadata": {},
   "source": [
    "### Load"
   ]
  },
  {
   "cell_type": "code",
   "execution_count": null,
   "metadata": {},
   "outputs": [],
   "source": [
    "import numpy as np\n",
    "import pandas as pd\n",
    "import sqlite3"
   ]
  },
  {
   "cell_type": "code",
   "execution_count": null,
   "metadata": {},
   "outputs": [],
   "source": [
    "# Create connection\n",
    "conn = sqlite3.connect('desafio_AAWZ.db')\n",
    "\n",
    "#load data\n",
    "df_selic = pd.read_sql_query(\"SELECT * FROM selic\", conn)\n",
    "df_petr4 = pd.read_sql_query(\"SELECT * FROM petr4\", conn)"
   ]
  },
  {
   "cell_type": "code",
   "execution_count": null,
   "metadata": {},
   "outputs": [],
   "source": [
    "df_selic"
   ]
  },
  {
   "cell_type": "code",
   "execution_count": null,
   "metadata": {},
   "outputs": [],
   "source": [
    "df_petr4"
   ]
  },
  {
   "cell_type": "markdown",
   "metadata": {},
   "source": [
    "### Gráficos"
   ]
  },
  {
   "cell_type": "code",
   "execution_count": null,
   "metadata": {},
   "outputs": [],
   "source": [
    "import matplotlib.pyplot as plt\n",
    "%matplotlib inline\n",
    "\n",
    "# para visualizar de forma ampla dentro do notebook\n",
    "plt.rcParams['figure.figsize'] = (15, 8)"
   ]
  },
  {
   "cell_type": "code",
   "execution_count": null,
   "metadata": {},
   "outputs": [],
   "source": [
    "# visualização do gráfico SELIC\n",
    "x_selic = df_selic['Ano']\n",
    "y_selic = df_selic['Taxa SELIC']\n",
    "\n",
    "fig, selic_grafico = plt.subplots()\n",
    "plt.plot(x_selic, y_selic, color='green', label='Taxa SELIC')\n",
    "plt.grid()\n",
    "plt.xlabel('Tempo')\n",
    "plt.ylabel('Taxa')\n",
    "plt.title(\"Variação da taxa SELIC\")\n",
    "plt.legend(loc=\"upper right\")\n",
    "plt.legend()\n",
    "plt.show()"
   ]
  },
  {
   "cell_type": "code",
   "execution_count": null,
   "metadata": {
    "scrolled": false
   },
   "outputs": [],
   "source": [
    "# visualização do gráfico PETR4\n",
    "x_petr4 = df_petr4['Ano']\n",
    "y_petr4 = df_petr4['Fechamento']\n",
    "\n",
    "fig, petr4_grafico = plt.subplots()\n",
    "plt.plot(x_petr4, y_petr4, color='blue', label='PETR4')\n",
    "plt.grid()\n",
    "plt.xlabel('Tempo')\n",
    "plt.ylabel('Valor')\n",
    "plt.title(\"Variação do preço das ações PETR4\")\n",
    "plt.legend(loc=\"upper right\")\n",
    "plt.legend()\n",
    "plt.show()"
   ]
  },
  {
   "cell_type": "markdown",
   "metadata": {},
   "source": [
    "### Plotagem no mesmo gráfico"
   ]
  },
  {
   "cell_type": "code",
   "execution_count": null,
   "metadata": {},
   "outputs": [],
   "source": [
    "plt.plot(x_petr4, y_petr4, color='blue', label='PETR4')\n",
    "plt.plot(x_selic, y_selic, color='green', label='Taxa SELIC')\n",
    "\n",
    "plt.grid()\n",
    "plt.xlabel('Tempo')\n",
    "plt.ylabel('Valor')\n",
    "plt.title(\"PETR4 e SELIC nos últimos 10 anos\")\n",
    "plt.legend(loc=\"upper right\")\n",
    "plt.legend()\n",
    "plt.show()"
   ]
  },
  {
   "cell_type": "markdown",
   "metadata": {},
   "source": [
    "---\n",
    "\n",
    "## Predição do fechamento do preço PETR4 a partir da taxa SELIC"
   ]
  },
  {
   "cell_type": "code",
   "execution_count": null,
   "metadata": {
    "scrolled": true
   },
   "outputs": [],
   "source": [
    "from sklearn.linear_model import LinearRegression\n",
    "from sklearn.model_selection import train_test_split\n",
    "\n",
    "X = df_selic[['Taxa SELIC']]\n",
    "\n",
    "# escolhendo a variável dependente\n",
    "y = df_petr4[['Fechamento']]\n",
    "\n",
    "# Split the data\n",
    "X_train, X_test, y_train, y_test = train_test_split(\n",
    "                                    X, \n",
    "                                    y, \n",
    "                                    test_size=0.25)"
   ]
  },
  {
   "cell_type": "code",
   "execution_count": null,
   "metadata": {},
   "outputs": [],
   "source": [
    "model = LinearRegression()\n",
    "model = model.fit(X_train, y_train)\n",
    "y_pred_model = model.predict(X_test)\n",
    "\n",
    "# prediction valor aleatório\n",
    "meta_selic = 10\n",
    "predicao_petr4 = model.predict(meta_selic)\n",
    "print(f'A predição do fechamento anual para PETR4, (se meta SELIC = {meta_selic}) se baseando numa regressão linear é: R${predicao_petr4} reais.')"
   ]
  },
  {
   "cell_type": "markdown",
   "metadata": {},
   "source": [
    "---\n",
    "\n",
    "## Fontes:\n",
    "\n",
    "\n",
    "#### SQLITE:\n",
    "- https://www.fullstackpython.com/object-relational-mappers-orms.html (ORM)\n",
    "- http://pythonclub.com.br/gerenciando-banco-dados-sqlite3-python-parte1.html\n",
    "- http://www.devfuria.com.br/linux/instalando-sqlite/"
   ]
  },
  {
   "cell_type": "code",
   "execution_count": null,
   "metadata": {},
   "outputs": [],
   "source": []
  }
 ],
 "metadata": {
  "kernelspec": {
   "display_name": "Python 3",
   "language": "python",
   "name": "python3"
  },
  "language_info": {
   "codemirror_mode": {
    "name": "ipython",
    "version": 3
   },
   "file_extension": ".py",
   "mimetype": "text/x-python",
   "name": "python",
   "nbconvert_exporter": "python",
   "pygments_lexer": "ipython3",
   "version": "3.6.5"
  },
  "latex_envs": {
   "LaTeX_envs_menu_present": true,
   "autoclose": false,
   "autocomplete": true,
   "bibliofile": "biblio.bib",
   "cite_by": "apalike",
   "current_citInitial": 1,
   "eqLabelWithNumbers": true,
   "eqNumInitial": 1,
   "hotkeys": {
    "equation": "Ctrl-E",
    "itemize": "Ctrl-I"
   },
   "labels_anchors": false,
   "latex_user_defs": false,
   "report_style_numbering": false,
   "user_envs_cfg": false
  }
 },
 "nbformat": 4,
 "nbformat_minor": 2
}
